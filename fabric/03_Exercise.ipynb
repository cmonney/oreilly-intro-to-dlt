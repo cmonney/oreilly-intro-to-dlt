{
 "cells": [
  {
   "cell_type": "markdown",
   "metadata": {},
   "source": [
    "# Exercise\n",
    "\n",
    "The exercise is easy. Everytime the car is repaired, the mileage shouldn't be smaller than from the previous repair. We cannot (or shouldn't) change the mileage of a car manually, especially backwards. To solve this exercise we need to:\n",
    "\n",
    "1. Modify the ``addCarRepair`` transaction and add an if statement. \n",
    "2. The if statement should take the last item from the history list and get the mileage value.\n",
    "3. Check if the last item is smaller or equal to the current mileage. If smaller return the ``Car`` and skip the ``stub.putStringState`` invoke."
   ]
  }
 ],
 "metadata": {
  "kernelspec": {
   "display_name": "Python 3",
   "language": "python",
   "name": "python3"
  },
  "language_info": {
   "codemirror_mode": {
    "name": "ipython",
    "version": 3
   },
   "file_extension": ".py",
   "mimetype": "text/x-python",
   "name": "python",
   "nbconvert_exporter": "python",
   "pygments_lexer": "ipython3",
   "version": "3.5.2"
  }
 },
 "nbformat": 4,
 "nbformat_minor": 2
}
