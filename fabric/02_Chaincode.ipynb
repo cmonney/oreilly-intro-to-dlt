{
 "cells": [
  {
   "cell_type": "markdown",
   "metadata": {},
   "source": [
    "# Chaincode\n",
    "\n",
    "This chaincode example is based on the example given at [https://github.com/hyperledger/fabric-samples/tree/master/chaincode/fabcar/java](https://github.com/hyperledger/fabric-samples/tree/master/chaincode/fabcar/java). It's a newer way of building chaincodes in Fabric with Java. In this section we show to construct a simple car repair smart contract. The implementation is divided into two parts: the Car and the chaincode implementation."
   ]
  },
  {
   "cell_type": "markdown",
   "metadata": {},
   "source": [
    "## Car implementation\n",
    "\n",
    "Both classes are placed in the same package. We use the DataType annotation to define the Car as the data type used by our smart contract."
   ]
  },
  {
   "cell_type": "code",
   "execution_count": null,
   "metadata": {},
   "outputs": [],
   "source": [
    "package com.codete.fabric.examples.oltcar;\n",
    "\n",
    "import java.util.Objects;\n",
    "\n",
    "import org.hyperledger.fabric.contract.annotation.DataType;\n",
    "import org.hyperledger.fabric.contract.annotation.Property;\n",
    "\n",
    "import com.owlike.genson.annotation.JsonProperty;\n",
    "\n",
    "@DataType()\n",
    "public final class Car {\n"
   ]
  },
  {
   "cell_type": "markdown",
   "metadata": {},
   "source": [
    "The second part of the ``Car`` class are the properties. In our example we have only two: the mileage and the repairName. Each property has a getter method implemented in the next part of the class. We set the properties using the constructor of the class. Simple."
   ]
  },
  {
   "cell_type": "code",
   "execution_count": null,
   "metadata": {},
   "outputs": [],
   "source": [
    "    @Property()\n",
    "    private final Integer mileage;\n",
    "\n",
    "    @Property()\n",
    "    private final String repairName;\n",
    "\n",
    "\n",
    "    public String getMileage() {\n",
    "        return Integer.toString(mileage);\n",
    "    }\n",
    "\n",
    "    public String getRepairName() {\n",
    "        return repairName;\n",
    "    }\n",
    "\n",
    "    public Car(@JsonProperty(\"mileage\") final Integer mileage, @JsonProperty(\"repairName\") final String repairName) {\n",
    "        this.mileage = mileage;\n",
    "        this.repairName = repairName;\n",
    "    }"
   ]
  },
  {
   "cell_type": "markdown",
   "metadata": {},
   "source": [
    "The next three methods are overriden methods like ``equals`` to compare the objects, ``hashCode`` to generate the hashcode of the object and ``toString`` method to return the property values as string."
   ]
  },
  {
   "cell_type": "code",
   "execution_count": null,
   "metadata": {},
   "outputs": [],
   "source": [
    "    @Override\n",
    "    public boolean equals(final Object obj) {\n",
    "        if (this == obj) {\n",
    "            return true;\n",
    "        }\n",
    "\n",
    "        if ((obj == null) || (getClass() != obj.getClass())) {\n",
    "            return false;\n",
    "        }\n",
    "\n",
    "        Car other = (Car) obj;\n",
    "\n",
    "        return Objects.deepEquals(new String[] {getMileage(), getRepairName()},\n",
    "                new String[] {other.getMileage(), other.getRepairName()});\n",
    "    }\n",
    "\n",
    "    @Override\n",
    "    public int hashCode() {\n",
    "        return Objects.hash(getMileage(), getRepairName());\n",
    "    }\n",
    "\n",
    "    @Override\n",
    "    public String toString() {\n",
    "        return this.getClass().getSimpleName() + \"@\" + Integer.toHexString(hashCode())\n",
    "         + \" [mileage=\" + Integer.toString(mileage) + \", repairName=\" + repairName + \"]\";\n",
    "    }"
   ]
  },
  {
   "cell_type": "markdown",
   "metadata": {},
   "source": [
    "## OLTCar\n",
    "\n",
    "The smart contract is implemented as the OLTCar class. We need to import more libarires than in the ``Car`` class."
   ]
  },
  {
   "cell_type": "code",
   "execution_count": null,
   "metadata": {},
   "outputs": [],
   "source": [
    "package com.codete.fabric.examples.oltcar;\n",
    "\n",
    "import java.util.ArrayList;\n",
    "import java.util.List;\n",
    "import java.util.Iterator;\n",
    "\n",
    "import org.hyperledger.fabric.contract.Context;\n",
    "import org.hyperledger.fabric.contract.ContractInterface;\n",
    "import org.hyperledger.fabric.contract.annotation.Contact;\n",
    "import org.hyperledger.fabric.contract.annotation.Contract;\n",
    "import org.hyperledger.fabric.contract.annotation.Default;\n",
    "import org.hyperledger.fabric.contract.annotation.Info;\n",
    "import org.hyperledger.fabric.contract.annotation.License;\n",
    "import org.hyperledger.fabric.contract.annotation.Transaction;\n",
    "import org.hyperledger.fabric.shim.ChaincodeStub;\n",
    "import org.hyperledger.fabric.shim.ledger.QueryResultsIterator;\n",
    "import org.hyperledger.fabric.shim.ledger.KeyModification;\n",
    "\n",
    "import com.owlike.genson.Genson;"
   ]
  },
  {
   "cell_type": "markdown",
   "metadata": {},
   "source": [
    "The new way of creating a chaincode definition in Fabric can be done with an annotation ``@Contract`` as below."
   ]
  },
  {
   "cell_type": "code",
   "execution_count": null,
   "metadata": {},
   "outputs": [],
   "source": [
    "@Contract(\n",
    "        name = \"OLTCar\",\n",
    "        info = @Info(\n",
    "                title = \"OLTCar contract\",\n",
    "                description = \"OLT example contract\",\n",
    "                version = \"0.0.1\",\n",
    "                license = @License(\n",
    "                        name = \"Apache 2.0 License\",\n",
    "                        url = \"http://www.apache.org/licenses/LICENSE-2.0.html\"),\n",
    "                contact = @Contact(\n",
    "                        email = \"karol@codete.com\",\n",
    "                        name = \"Karol Przystalski\",\n",
    "                        url = \"https://www.codete.com\")))"
   ]
  },
  {
   "cell_type": "markdown",
   "metadata": {},
   "source": [
    "To build a smart contract we need to implement ``ContractInterface`` interface. Genson is used to work with JSON data."
   ]
  },
  {
   "cell_type": "code",
   "execution_count": null,
   "metadata": {},
   "outputs": [],
   "source": [
    "@Default\n",
    "public final class OLTCar implements ContractInterface {\n",
    "\n",
    "    private final Genson genson = new Genson();"
   ]
  },
  {
   "cell_type": "markdown",
   "metadata": {},
   "source": [
    "We implement two transactions ``addCarRepair`` and take the car vin number, repairment name and the mileage of the car when the repair is done. The ``ChaincodeStub`` is the object type that is created to add new block with the method ``putStringState``. We put as a String."
   ]
  },
  {
   "cell_type": "code",
   "execution_count": null,
   "metadata": {},
   "outputs": [],
   "source": [
    "    /**\n",
    "     * Creates a new car on the ledger.\n",
    "     *\n",
    "     * @param ctx the transaction context\n",
    "     * @param vin the vin for the new car\n",
    "     * @param mileage the make of the new car\n",
    "     * @param repairName the model of the new car\n",
    "     * @return the created Car entry\n",
    "     */\n",
    "    @Transaction()\n",
    "    public Car addCarRepair(final Context ctx, final String vin, final Integer mileage, final String repairName) {\n",
    "        ChaincodeStub stub = ctx.getStub();\n",
    "\n",
    "        Car car = new Car(mileage, repairName);\n",
    "        String carState = genson.serialize(car);\n",
    "        stub.putStringState(vin, carState);\n",
    "\n",
    "        return car;\n",
    "    }"
   ]
  },
  {
   "cell_type": "markdown",
   "metadata": {},
   "source": [
    "The car history query method is a bit more complex, because we need to build a list of cars and iterate through the outcome from the blockchain."
   ]
  },
  {
   "cell_type": "code",
   "execution_count": null,
   "metadata": {},
   "outputs": [],
   "source": [
    "    /**\n",
    "     * Retrieves every car history.\n",
    "     *\n",
    "     * @param ctx the transaction context\n",
    "     * @return array of Cars events found on the ledger\n",
    "     */\n",
    "    @Transaction()\n",
    "    public Car[] queryCarsHistory(final Context ctx, final String vin) {\n",
    "        ChaincodeStub stub = ctx.getStub();\n",
    "\n",
    "        List<Car> cars = new ArrayList<Car>();\n",
    "\n",
    "        QueryResultsIterator<KeyModification> results = stub.getHistoryForKey(vin);\n",
    "\n",
    "        Iterator<KeyModification> iter = results.iterator();\n",
    "        while (iter.hasNext()) {\n",
    "          Car car = genson.deserialize(iter.next().getStringValue(), Car.class);\n",
    "          cars.add(car);\n",
    "        }\n",
    "\n",
    "        Car[] response = cars.toArray(new Car[cars.size()]);\n",
    "\n",
    "        return response;\n",
    "    }"
   ]
  },
  {
   "cell_type": "markdown",
   "metadata": {},
   "source": [
    "## Build\n",
    "\n",
    "We build the chaincode using Gradle. We use a typical gradle build configuration."
   ]
  },
  {
   "cell_type": "code",
   "execution_count": null,
   "metadata": {},
   "outputs": [],
   "source": [
    "plugins {\n",
    "    id 'checkstyle'\n",
    "    id 'com.github.johnrengelman.shadow' version '2.0.4'\n",
    "    id 'java-library'\n",
    "    id 'jacoco'\n",
    "}\n",
    "\n",
    "group 'com.codete.fabric.examples'\n",
    "version '0.1'\n",
    "\n",
    "dependencies {\n",
    "    implementation 'org.hyperledger.fabric-chaincode-java:fabric-chaincode-shim:2.0.0-beta.1'\n",
    "    implementation 'com.owlike:genson:1.5'\n",
    "    testImplementation 'org.junit.jupiter:junit-jupiter:5.4.2'\n",
    "    testImplementation 'org.assertj:assertj-core:3.11.1'\n",
    "    testImplementation 'org.mockito:mockito-core:2.+'\n",
    "}\n",
    "\n",
    "repositories {\n",
    "    maven {\n",
    "        url \"https://nexus.hyperledger.org/content/repositories/snapshots/\"\n",
    "    }\n",
    "    jcenter()\n",
    "    maven {\n",
    "        url 'https://jitpack.io'\n",
    "    }\n",
    "}\n",
    "\n",
    "checkstyle {\n",
    "    toolVersion '8.21'\n",
    "    configFile file(\"config/checkstyle/checkstyle.xml\")\n",
    "}\n",
    "\n",
    "checkstyleMain {\n",
    "    source ='src/main/java'\n",
    "}\n",
    "\n",
    "checkstyleTest {\n",
    "    source ='src/test/java'\n",
    "}\n",
    "\n",
    "shadowJar {\n",
    "    baseName = 'chaincode'\n",
    "    version = null\n",
    "    classifier = null\n",
    "    manifest {\n",
    "        attributes 'Main-Class': 'org.hyperledger.fabric.contract.ContractRouter'\n",
    "    }\n",
    "}\n",
    "\n",
    "test {\n",
    "    useJUnitPlatform()\n",
    "    testLogging {\n",
    "        events \"passed\", \"skipped\", \"failed\"\n",
    "    }\n",
    "}"
   ]
  },
  {
   "cell_type": "markdown",
   "metadata": {},
   "source": [
    "To get the bash console in our ``fabric_cli`` container, you can use the following command: \n",
    "\n",
    "``docker exec -it fabric_cli bash``\n",
    "\n",
    "Then you can go to the directory where the source code is placed (``/home/codete/workshop/``) and execute the gradle build method:\n",
    "\n",
    "``./gradlew clean build shadowJar``"
   ]
  },
  {
   "cell_type": "markdown",
   "metadata": {},
   "source": [
    "# Deploy \n",
    "\n",
    "To deploy the chaincode, you should use the ``install`` command and ``instantinate`` as following:\n",
    "\n",
    "``peer chaincode install -l java -n carcc -v v1 -p <path>``\n",
    "\n",
    "``peer chaincode instantiate -o orderer.codete.com:7050 -C channelone -n carcc -v v1 -c '{\"Args\":[]}' -P 'OR (\"Org1MSP.member\")'``\n",
    "\n",
    "Please remember to change the ``<path>`` to the directory where code witht the build is placed."
   ]
  },
  {
   "cell_type": "markdown",
   "metadata": {},
   "source": [
    "# Run\n",
    "\n",
    "We have implemented two transactions: ``addCarRepair`` and ``queryCarsHistory``. To get the history we should add something to our chain:\n",
    "\n",
    "``peer chaincode invoke -n carcc -c '{\"Args\":[\"addCarRepair\", \"1234567\", 3000, \"Wheel change\"]}' -C channelone``\n",
    "\n",
    "\n",
    "The transaction should return the added block. In the next step we can add another block or check the history like:\n",
    "``peer chaincode invoke -n carcc -c '{\"Args\":[\"queryCarsHistory\", \"1234567\"]}' -C channelone``\n",
    "\n",
    "This method should return the current history of the car repair based on the car vin number."
   ]
  }
 ],
 "metadata": {
  "kernelspec": {
   "display_name": "Python 3",
   "language": "python",
   "name": "python3"
  },
  "language_info": {
   "codemirror_mode": {
    "name": "ipython",
    "version": 3
   },
   "file_extension": ".py",
   "mimetype": "text/x-python",
   "name": "python",
   "nbconvert_exporter": "python",
   "pygments_lexer": "ipython3",
   "version": "3.5.2"
  }
 },
 "nbformat": 4,
 "nbformat_minor": 2
}
