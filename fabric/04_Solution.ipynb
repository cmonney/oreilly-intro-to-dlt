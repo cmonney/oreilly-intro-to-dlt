{
 "cells": [
  {
   "cell_type": "markdown",
   "metadata": {},
   "source": [
    "# Solution\n",
    "\n",
    "The solution is simple, we need to use the ``queryCarsHistory`` method and check the mileage of the last car compared to the proposed one. It can be done using two ``if`` statements as below."
   ]
  },
  {
   "cell_type": "code",
   "execution_count": null,
   "metadata": {},
   "outputs": [],
   "source": [
    "    @Transaction()\n",
    "    public Car addCarRepair(final Context ctx, final String vin, final Integer mileage, final String repairName) {\n",
    "        ChaincodeStub stub = ctx.getStub();\n",
    "\n",
    "        Car car = new Car(mileage, repairName);\n",
    "\n",
    "        Car[] carHistory = this.queryCarsHistory(ctx, vin);\n",
    "        if (carHistory != null && carHistory.length > 0) {\n",
    "            Car previousRepair = carHistory[carHistory.length - 1];\n",
    "            if (Integer.parseInt(previousRepair.getMileage()) <= mileage) {\n",
    "              String carState = genson.serialize(car);\n",
    "              stub.putStringState(vin, carState);\n",
    "            } else {\n",
    "              return car;\n",
    "            }\n",
    "        } else {\n",
    "            String carState = genson.serialize(car);\n",
    "            stub.putStringState(vin, carState);\n",
    "        }\n",
    "        return car;\n",
    "    }"
   ]
  },
  {
   "cell_type": "markdown",
   "metadata": {},
   "source": [
    "## Build and deploy \n",
    "\n",
    "You should build it in the same way as the previous smart contract:\n",
    "``./gradlew clean build shadowJar``. Keep in mind that the deployment should be done using a new chaincode name like ``newcarcc``:\n",
    "\n",
    "``peer chaincode install -l java -n newcarcc -v v1 -p <path>``\n",
    "\n",
    "\n",
    "``peer chaincode instantiate -o orderer.codete.com:7050 -C channelone -n newcarcc -v v1 -c '{\"Args\":[]}' -P 'OR (\"Org1MSP.member\")'``"
   ]
  },
  {
   "cell_type": "markdown",
   "metadata": {},
   "source": [
    "## Testing\n",
    "\n",
    "Test it by adding a new block:\n",
    "\n",
    "``peer chaincode invoke -n newcarcc -c '{\"Args\":[\"addCarRepair\", \"12345\", \"3000\", \"WheelChange\"]}' -C channelone``\n",
    "\n",
    "\n",
    "Next try to add a block with smaller mileage:\n",
    "\n",
    "``peer chaincode invoke -n newcarcc -c '{\"Args\":[\"addCarRepair\", \"12345\", \"200\", \"WheelChange\"]}' -C channelone``\n",
    "\n",
    "And next add a block with mileage that is greater than the first one:\n",
    "``peer chaincode invoke -n newcarcc -c '{\"Args\":[\"addCarRepair\", \"12345\", \"5000\", \"WheelChange\"]}' -C channelone``\n",
    "\n",
    "\n",
    "Check the car repairs history:\n",
    "``peer chaincode invoke -n newcarcc -c '{\"Args\":[\"queryCarsHistory\", \"12345\"]}' -C channelone``"
   ]
  }
 ],
 "metadata": {
  "kernelspec": {
   "display_name": "Python 3",
   "language": "python",
   "name": "python3"
  },
  "language_info": {
   "codemirror_mode": {
    "name": "ipython",
    "version": 3
   },
   "file_extension": ".py",
   "mimetype": "text/x-python",
   "name": "python",
   "nbconvert_exporter": "python",
   "pygments_lexer": "ipython3",
   "version": "3.5.2"
  }
 },
 "nbformat": 4,
 "nbformat_minor": 2
}
