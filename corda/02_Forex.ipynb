{
 "cells": [
  {
   "cell_type": "markdown",
   "metadata": {},
   "source": [
    "# Forex Cordapp\n",
    "\n",
    "In this section we show how to build a simple Cordapp where we can buy and sell currencies. Instead of building the whole application from scratch, we use the one available at [https://github.com/dineshrivankar/cordapp-trading/](https://github.com/dineshrivankar/cordapp-trading/).\n",
    "\n",
    "The process of configuring the nodes is similar as in the Gradle example in the previous notebook. In this notebook we focus on the contracts and workflow implementation. This is the major part of each Cordapp."
   ]
  },
  {
   "cell_type": "markdown",
   "metadata": {},
   "source": [
    "## Configuration\n",
    "\n",
    "Similar to the previous example, we need to set the ``build.gradle`` configuration file. The first part of the configuration file looks very similar to the previous one. Compared to the previous example, in the current we have the tests added."
   ]
  },
  {
   "cell_type": "code",
   "execution_count": 3,
   "metadata": {},
   "outputs": [
    {
     "name": "stdout",
     "output_type": "stream",
     "text": [
      "Overwriting /home/codete/workshop/cordapp-trading/kotlin-source/build.gradle\n"
     ]
    }
   ],
   "source": [
    "%%writefile /home/codete/workshop/cordapp-trading/kotlin-source/build.gradle\n",
    "repositories {\n",
    "    mavenLocal()\n",
    "    jcenter()\n",
    "    mavenCentral()\n",
    "    maven { url 'https://dl.bintray.com/kotlin/exposed' }\n",
    "    maven { url 'https://jitpack.io' }\n",
    "    maven { url 'https://ci-artifactory.corda.r3cev.com/artifactory/corda-releases' }\n",
    "}\n",
    "\n",
    "apply plugin: 'kotlin'\n",
    "apply plugin: 'net.corda.plugins.cordapp'\n",
    "apply plugin: 'net.corda.plugins.cordformation'\n",
    "apply plugin: 'net.corda.plugins.quasar-utils'\n",
    "\n",
    "jar.baseName = \"cordapp-trading\"\n",
    "\n",
    "sourceSets {\n",
    "    main {\n",
    "        resources {\n",
    "            srcDir \"../config/dev\"\n",
    "        }\n",
    "    }\n",
    "    test {\n",
    "        resources {\n",
    "            srcDir \"../config/test\"\n",
    "        }\n",
    "    }\n",
    "    integrationTest {\n",
    "        kotlin {\n",
    "            compileClasspath += main.output + test.output\n",
    "            runtimeClasspath += main.output + test.output\n",
    "            srcDir file('src/integration-test/kotlin')\n",
    "        }\n",
    "    }\n",
    "}\n",
    "\n",
    "configurations {\n",
    "    integrationTestCompile.extendsFrom testCompile\n",
    "    integrationTestRuntime.extendsFrom testRuntime\n",
    "}\n",
    "\n",
    "dependencies {\n",
    "    compile \"org.jetbrains.kotlin:kotlin-stdlib-jre8:$kotlin_version\"\n",
    "    testCompile \"org.jetbrains.kotlin:kotlin-test:$kotlin_version\"\n",
    "    testCompile \"junit:junit:$junit_version\"\n",
    "\n",
    "    // Corda integration dependencies\n",
    "    cordaCompile \"$corda_release_group:corda-core:$corda_release_version\"\n",
    "    cordaCompile \"$corda_release_group:corda-finance:$corda_release_version\"\n",
    "    cordaCompile \"$corda_release_group:corda-jackson:$corda_release_version\"\n",
    "    cordaCompile \"$corda_release_group:corda-rpc:$corda_release_version\"\n",
    "    cordaCompile \"$corda_release_group:corda-webserver-impl:$corda_release_version\"\n",
    "    cordaRuntime \"$corda_release_group:corda:$corda_release_version\"\n",
    "    cordaRuntime \"$corda_release_group:corda-webserver:$corda_release_version\"\n",
    "\n",
    "    testCompile \"$corda_release_group:corda-node-driver:$corda_release_version\"\n",
    "\n",
    "    // CorDapp dependencies\n",
    "    // Specify your cordapp's dependencies below, including dependent CorDapps\n",
    "    cordapp \"$corda_release_group:corda-finance:$corda_release_version\"\n",
    "}\n",
    "\n",
    "task integrationTest(type: Test, dependsOn: []) {\n",
    "    testClassesDirs = sourceSets.integrationTest.output.classesDirs\n",
    "    classpath = sourceSets.integrationTest.runtimeClasspath\n",
    "}\n",
    "\n",
    "tasks.withType(org.jetbrains.kotlin.gradle.tasks.KotlinCompile).all {\n",
    "    kotlinOptions {\n",
    "        languageVersion = \"1.1\"\n",
    "        apiVersion = \"1.1\"\n",
    "        jvmTarget = \"1.8\"\n",
    "        javaParameters = true   // Useful for reflection.\n",
    "    }\n",
    "}\n"
   ]
  },
  {
   "cell_type": "markdown",
   "metadata": {},
   "source": [
    "Similar the ``deployNodes`` task from the previous notebook, the configuration has three nodes and the notary. The additional parameter is the ``webPort`` that allows to access the web application that is used to connect to one of our nodes. We show the web application implementation later in this notebook. "
   ]
  },
  {
   "cell_type": "code",
   "execution_count": 4,
   "metadata": {},
   "outputs": [
    {
     "name": "stdout",
     "output_type": "stream",
     "text": [
      "Appending to /home/codete/workshop/cordapp-trading/kotlin-source/build.gradle\n"
     ]
    }
   ],
   "source": [
    "%%writefile -a /home/codete/workshop/cordapp-trading/kotlin-source/build.gradle\n",
    "\n",
    "task deployNodes(type: net.corda.plugins.Cordform, dependsOn: ['jar']) {\n",
    "    directory \"./build/nodes\"\n",
    "    node {\n",
    "        name \"O=Notary,L=London,C=GB\"\n",
    "        notary = [validating : false]\n",
    "        p2pPort 10006\n",
    "        cordapps = [\"$corda_release_group:corda-finance:$corda_release_version\"]\n",
    "    }\n",
    "    node {\n",
    "        name \"O=PartyA,L=Krakow,C=PL\"\n",
    "        p2pPort 10007\n",
    "        rpcSettings {\n",
    "            address(\"localhost:10008\")\n",
    "            adminAddress(\"localhost:10048\")\n",
    "        }\n",
    "        webPort 10021\n",
    "        cordapps = [\"$corda_release_group:corda-finance:$corda_release_version\"]\n",
    "        rpcUsers = [[user: \"user1\", \"password\": \"test\", \"permissions\": [\"ALL\"]]]\n",
    "    }\n",
    "    node {\n",
    "        name \"O=PartyB,L=New York,C=US\"\n",
    "        p2pPort 10010\n",
    "        rpcSettings {\n",
    "            address(\"localhost:10011\")\n",
    "            adminAddress(\"localhost:10051\")\n",
    "        }\n",
    "        webPort 10022\n",
    "        cordapps = [\"$corda_release_group:corda-finance:$corda_release_version\"]\n",
    "        rpcUsers = [[user: \"user1\", \"password\": \"test\", \"permissions\": [\"ALL\"]]]\n",
    "    }\n",
    "    node {\n",
    "        name \"O=PartyC,L=Paris,C=FR\"\n",
    "        p2pPort 10013\n",
    "        rpcSettings {\n",
    "            address(\"localhost:10014\")\n",
    "            adminAddress(\"localhost:10054\")\n",
    "        }\n",
    "        webPort 10023\n",
    "        cordapps = [\"$corda_release_group:corda-finance:$corda_release_version\"]\n",
    "        rpcUsers = [[user: \"user1\", \"password\": \"test\", \"permissions\": [\"ALL\"]]]\n",
    "    }\n",
    "}\n",
    "\n",
    "task runExampleClientRPCKotlin(type: JavaExec) {\n",
    "    classpath = sourceSets.main.runtimeClasspath\n",
    "    main = 'com.trading.client.ExampleClientRPCKt'\n",
    "    args 'localhost:10008'\n",
    "}"
   ]
  },
  {
   "cell_type": "markdown",
   "metadata": {},
   "source": [
    "Similar as in previous example, to generate the configuration and compile the Kotlin code we need to execute Gradle and the ``deployNodes`` task."
   ]
  },
  {
   "cell_type": "code",
   "execution_count": null,
   "metadata": {},
   "outputs": [],
   "source": [
    "!cd /home/codete/workshop/cordapp-trading/ && ./gradlew deployNodes"
   ]
  },
  {
   "cell_type": "markdown",
   "metadata": {},
   "source": [
    "## Structure\n",
    "\n",
    "The application structure consist of several directories, where the code in each is responsible for a separate functionality. To see what kind of directories we have we can use the command below. Please keep in mind that we don't need to have all directories and code to develop a working Corda application."
   ]
  },
  {
   "cell_type": "code",
   "execution_count": 1,
   "metadata": {},
   "outputs": [
    {
     "name": "stdout",
     "output_type": "stream",
     "text": [
      "api  client  contract  flow  plugin  schema  state\r\n"
     ]
    }
   ],
   "source": [
    "!ls /home/codete/workshop/cordapp-trading/kotlin-source/src/main/kotlin/com/trading/"
   ]
  },
  {
   "cell_type": "markdown",
   "metadata": {},
   "source": [
    "### Schema\n",
    "\n",
    "Let's start with the Schema as it's the most crucial one. We define in the schema the structure of the data that each contract use. In the example we have the an table called ``trade_states`` that consist of fields like: ``initiatingPartyName``, ``counterParty``, ``sellValue``, ``sellCurrency``, ``buyValue``, ``buyCurrency``, ``tradeStatus``, and ``linearId``. The field defined in this schema are used by our application to make the buy/sell transaction possible. The schema definition can be fond in ``cordapp-trading\\kotlin-source\\src\\main\\kotlin\\com\\trading\\schema\\TradeSchema.kt``. The Entity definition looks as below.\n",
    "\n",
    "```java\n",
    "    @Entity\n",
    "    @Table(name = \"trade_states\")\n",
    "    class PersistentTrade(\n",
    "            @Column(name = \"initiatingParty\")\n",
    "            var initiatingPartyName: String,\n",
    "\n",
    "            @Column(name = \"counterParty\")\n",
    "            var counterParty: String,\n",
    "\n",
    "            @Column(name = \"sellValue\")\n",
    "            var sellValue: Int,\n",
    "\n",
    "            @Column(name = \"sellCurrency\")\n",
    "            var sellCurrency: String,\n",
    "\n",
    "            @Column(name = \"buyValue\")\n",
    "            var buyValue: Int,\n",
    "\n",
    "            @Column(name = \"buyCurrency\")\n",
    "            var buyCurrency: String,\n",
    "\n",
    "            @Column(name = \"tradeStatus\")\n",
    "            var tradeStatus: String,\n",
    "\n",
    "            @Column(name = \"linear_id\")\n",
    "            var linearId: UUID\n",
    "\n",
    "    ) : PersistentState() {\n",
    "        // Default constructor required by hibernate.\n",
    "        constructor(): this(\"\", \"\", 0,\"\",0,\"\",\"\", UUID.randomUUID())\n",
    "    }\n",
    "```"
   ]
  },
  {
   "cell_type": "markdown",
   "metadata": {},
   "source": [
    "### State\n",
    "\n",
    "The state use the Schema and participants to record the agreement between two parties. The definition of the state can be found in ``cordapp-trading\\kotlin-source\\src\\main\\kotlin\\com\\trading\\state\\TradeState.kt``. We can see that our state implements two interfaces: ``LinearState`` and ``QueryableState``, where:\n",
    "\n",
    "- ``LinearState`` - a state that evolves by superseding itself, all of which share the common \"linearId\",\n",
    "- ``QueryableState`` - a contract state that may be mapped to database schemas configured for this node to support querying for, or filtering of, states.\n",
    "\n",
    "The participants are set as a list of initiatingPart and counterParty. Both needs to agree to make the agreement possible.\n",
    "\n",
    "```java\n",
    "participants: List<AbstractParty> get() = listOf(initiatingParty, counterParty)\n",
    "```\n",
    "\n",
    "The implemented method ``generateMappedObject`` creates a ``PersistentState`` object with the schema information of the agreement.\n",
    "\n",
    "```java\n",
    "fun generateMappedObject(schema: MappedSchema): PersistentState {\n",
    "        return when (schema) {\n",
    "            is TradeSchemaV1 -> TradeSchemaV1.PersistentTrade(\n",
    "                    this.initiatingParty.name.toString(),\n",
    "                    this.counterParty.name.toString(),\n",
    "                    this.sellValue,\n",
    "                    this.sellCurrency.toString(),\n",
    "                    this.buyValue,\n",
    "                    this.buyCurrency.toString(),\n",
    "                    this.tradeStatus,\n",
    "                    this.linearId.id\n",
    "            )\n",
    "            else -> throw IllegalArgumentException(\"Unrecognised schema $schema\")\n",
    "        }\n",
    "}\n",
    "```"
   ]
  },
  {
   "cell_type": "markdown",
   "metadata": {},
   "source": [
    "### Contract\n",
    "\n",
    "The contract is responsible for the logic part. The main part of the contract is the ``verify`` method that checks if the states. The definition of the contract is placed in ``cordapp-trading\\kotlin-source\\src\\main\\kotlin\\com\\trading\\contract\\TradeContract.kt``. The ``verify`` method checks the two commands of creation and countertrade creation. The first has a list of requirement that needs to be fullfield to make it a valid operation:\n",
    "```java\n",
    "                requireThat {\n",
    "                    // Generic constraints around the Trade transaction.\n",
    "                    \"No inputs should be consumed when issuing an Trade.\" using (tx.inputs.isEmpty())\n",
    "                    \"Only one output state should be created.\" using (tx.outputs.size == 1)\n",
    "                    val out = tx.outputsOfType<TradeState>().single()\n",
    "                    \"The creating party and the counter party cannot be the same entity.\" using (out.initiatingParty != out.counterParty)\n",
    "                    \"All of the participants must be signers.\" using (command.signers.containsAll(out.participants.map { it.owningKey }))\n",
    "\n",
    "                     // Trade-specific constraints.\n",
    "                    \"The sell currency and the buy currency cannot be the same entity.\" using (out.sellCurrency != out.buyCurrency)\n",
    "                    \"The Trade's sell value must be non-negative.\" using (out.sellValue > 0)\n",
    "                    \"The Trade's buy value must be non-negative.\" using (out.buyValue > 0)\n",
    "                    \"The Trade's sell currency can't be empty.\" using (out.sellCurrency.isNotEmpty())\n",
    "                    \"The Trade's buy currency can't be empty.\" using (out.buyCurrency.isNotEmpty())\n",
    "                }\n",
    "            }\n",
    "```\n",
    "The countertrade agreement is similar to the previous one."
   ]
  },
  {
   "cell_type": "markdown",
   "metadata": {},
   "source": [
    "### Client\n",
    "\n",
    "The client class is just an example code of how to connect to the node using RPC and Kotlin. You can test it using Gradle by executing the task ``runExampleClientRPCKotlin``.\n",
    "\n",
    "### Plugin\n",
    "\n",
    "The plugin is used to register our API in our web application."
   ]
  },
  {
   "cell_type": "markdown",
   "metadata": {},
   "source": [
    "### Flow\n",
    "\n",
    "The flow part defines the flow of the transactions on two sides: trader and countertrader. Both are very similar and has a ``call`` method that go through all 5 stages of the transactions:\n",
    "\n",
    "1. Get the notary and generate the transaction based on the current state.\n",
    "```java\n",
    "val notary = serviceHub.networkMapCache.notaryIdentities[0]\n",
    "progressTracker.currentStep = GENERATING_TRANSACTION\n",
    "...\n",
    "```\n",
    "\n",
    "2. Verify the transaction.\n",
    "```java\n",
    "txBuilder.verify(serviceHub)\n",
    "```\n",
    "\n",
    "3. Sign the transaction.\n",
    "```java\n",
    "val partSignedTx = serviceHub.signInitialTransaction(txBuilder)\n",
    "```\n",
    "\n",
    "4. Send the transaction to the counterparty.\n",
    "```java\n",
    "val otherPartyFlow = initiateFlow(counterParty)\n",
    "val fullySignedTx = subFlow(CollectSignaturesFlow(partSignedTx, setOf(otherPartyFlow), GATHERING_SIGS.childProgressTracker()))\n",
    "```\n",
    "\n",
    "5. Save the transaction after it's signed by the counterparty.\n",
    "```java\n",
    "return subFlow(FinalityFlow(fullySignedTx, FINALISING_TRANSACTION.childProgressTracker()))\n",
    "```\n",
    "\n",
    "It's easy to understand it when we see it in our web application."
   ]
  },
  {
   "cell_type": "markdown",
   "metadata": {},
   "source": [
    "### API\n",
    "\n",
    "The API part is in fact our web application implementation. An example of the ``PUT`` request on ``create-trade`` path. It use the RCP to connect to the node with ``startTrackedFlow`` method. In the API some basic validation is done in the first place. The code can be found in \n",
    "``cordapp-trading\\kotlin-source\\src\\main\\kotlin\\com\\trading\\api\\TradeApi.kt``.\n",
    "\n",
    "```java\n",
    "@PUT\n",
    "@Path(\"create-trade\")\n",
    "fun createTrade(@QueryParam(\"sellValue\") sellValue: Int,@QueryParam(\"sellCurrency\") sellCurrency: String,@QueryParam(\"buyValue\") buyValue: Int,@QueryParam(\"buyCurrency\") buyCurrency: String, @QueryParam(\"counterParty\") counterParty: CordaX500Name?,@QueryParam(\"tradeStatus\") tradeStatus: String): Response {\n",
    "       \n",
    "       if (counterParty == null) {\n",
    "            return Response.status(BAD_REQUEST).entity(\"Query parameter 'Counter partyName' missing or has wrong format.\\n\").build()\n",
    "        }\n",
    "        if (sellValue <= 0 ) {\n",
    "            return Response.status(BAD_REQUEST).entity(\"Query parameter 'Sell Value' must be non-negative.\\n\").build()\n",
    "        }\n",
    "        if (buyValue <= 0 ) {\n",
    "            return Response.status(BAD_REQUEST).entity(\"Query parameter 'Buy Value' must be non-negative.\\n\").build()\n",
    "        }\n",
    "        val counterParty = rpcOps.wellKnownPartyFromX500Name(counterParty) ?:\n",
    "                return Response.status(BAD_REQUEST).entity(\"Counter Party named $counterParty cannot be found.\\n\").build()\n",
    "\n",
    "        return try {\n",
    "            val signedTx = rpcOps.startTrackedFlow(::Initiator, sellValue,sellCurrency,buyValue,buyCurrency,tradeStatus, counterParty).returnValue.getOrThrow()\n",
    "            Response.status(CREATED).entity(\"Transaction id ${signedTx.id} committed to ledger.\\n\").build()\n",
    "\n",
    "        } catch (ex: Throwable) {\n",
    "            logger.error(ex.message, ex)\n",
    "            Response.status(BAD_REQUEST).entity(ex.message!!).build()\n",
    "        }\n",
    "    }\n",
    "```\n",
    "\n",
    "It's important to mention that the web application static files are placed in the resource directory: ``cordapp-trading/kotlin-source/src/main/resources/tradingWeb/``."
   ]
  },
  {
   "cell_type": "markdown",
   "metadata": {},
   "source": [
    "## Execute\n",
    "\n",
    "To run the nodes we do it similar as in the previous notebook, but this time the ``runnoded`` script is placed in different location."
   ]
  },
  {
   "cell_type": "code",
   "execution_count": 2,
   "metadata": {},
   "outputs": [
    {
     "name": "stdout",
     "output_type": "stream",
     "text": [
      "Starting nodes in /home/codete/workshop/cordapp-trading/kotlin-source/build/nodes\n",
      "Starting corda.jar in /home/codete/workshop/cordapp-trading/kotlin-source/build/nodes/PartyC on debug port 5005\n",
      "Starting corda-webserver.jar in /home/codete/workshop/cordapp-trading/kotlin-source/build/nodes/PartyC on debug port 5006\n",
      "Starting corda.jar in /home/codete/workshop/cordapp-trading/kotlin-source/build/nodes/Notary on debug port 5007\n",
      "Starting corda.jar in /home/codete/workshop/cordapp-trading/kotlin-source/build/nodes/PartyB on debug port 5008\n",
      "Starting corda-webserver.jar in /home/codete/workshop/cordapp-trading/kotlin-source/build/nodes/PartyB on debug port 5009\n",
      "Starting corda.jar in /home/codete/workshop/cordapp-trading/kotlin-source/build/nodes/PartyA on debug port 5010\n",
      "Starting corda-webserver.jar in /home/codete/workshop/cordapp-trading/kotlin-source/build/nodes/PartyA on debug port 5011\n",
      "Started 7 processes\n",
      "Finished starting nodes\n"
     ]
    }
   ],
   "source": [
    "!cd /home/codete/workshop/cordapp-trading/kotlin-source/build/nodes/ && ./runnodes"
   ]
  },
  {
   "cell_type": "markdown",
   "metadata": {},
   "source": [
    "## Web application\n",
    "\n",
    "It can take about 60 seconds to run all 7 processes. Three process are web applications on each node, excluding the notary. You can access the applications by using the previously defined web ports on localhost like: [http://localhost:10021/](http://localhost:10021/). The other ports are 10022 and 10023. You can see that there are some paths that are defined in the API. You can go to [http://localhost:10021/web/trading/](http://localhost:10021/web/trading/) and trade."
   ]
  }
 ],
 "metadata": {
  "kernelspec": {
   "display_name": "Python 3",
   "language": "python",
   "name": "python3"
  },
  "language_info": {
   "codemirror_mode": {
    "name": "ipython",
    "version": 3
   },
   "file_extension": ".py",
   "mimetype": "text/x-python",
   "name": "python",
   "nbconvert_exporter": "python",
   "pygments_lexer": "ipython3",
   "version": "3.6.8"
  }
 },
 "nbformat": 4,
 "nbformat_minor": 2
}
