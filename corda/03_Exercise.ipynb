{
 "cells": [
  {
   "cell_type": "markdown",
   "metadata": {},
   "source": [
    "# Exercise\n",
    "\n",
    "The goal is to add just one input field in place of buy input field that allow us to agree on a contract to sell the amount of the currency, but to be realease now or in the next months. To do so, we need to change the following parts of our application:\n",
    "\n",
    "1. HTML code in the ``index.html`` in resources, we need to add the input box or change the buyValue and remove the buyCurrency select. The ``index.html`` file is placed in ``cordapp-trading/kotlin-source/src/main/resources/tradingWeb/index.html``. You also need to do Angular changes in ``cordapp-trading/kotlin-source/src/main/resources/tradingWeb/js/angular-module.js``. The REST request are sent in Angular.\n",
    "2. API - please add new field validation called ``longContract`` and remove the ``buyValue`` and ``buyCurrency`` fields. You need to change these in the functions ``createTrade`` and ``counterTrade``. Please change it also in the two flows methods accordingly.\n",
    "3. Schema - please add contract field as \n",
    "`` @Column(name = \"longContract\")``\n",
    "`` var longContract: Int,``\n",
    "\n",
    "4. Contract - please add the new fields verification like ``\"The Trade's contract period value must be 0 or higher.\" using (out.longContract >= 0)`` instead of buyValue.\n",
    "5. State - update the State fields and the ``generateMappedObject`` function.\n",
    "6. Flow - change the ``CounterInitiator`` and ``Initiator`` in the flows. Please change also the States."
   ]
  }
 ],
 "metadata": {
  "kernelspec": {
   "display_name": "Python 3",
   "language": "python",
   "name": "python3"
  },
  "language_info": {
   "codemirror_mode": {
    "name": "ipython",
    "version": 3
   },
   "file_extension": ".py",
   "mimetype": "text/x-python",
   "name": "python",
   "nbconvert_exporter": "python",
   "pygments_lexer": "ipython3",
   "version": "3.6.8"
  }
 },
 "nbformat": 4,
 "nbformat_minor": 2
}
