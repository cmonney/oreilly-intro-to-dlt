{
 "cells": [
  {
   "cell_type": "markdown",
   "metadata": {},
   "source": [
    "# Nodes setup\n",
    "\n",
    "In this notebook we show how to run a Corda node using Corda libraries and Gradle.\n",
    "\n",
    "## Simple Corda node\n",
    "\n",
    "The docker container has three Corda jar libraries in the ``/opt/corda`` directory:"
   ]
  },
  {
   "cell_type": "code",
   "execution_count": 2,
   "metadata": {},
   "outputs": [
    {
     "name": "stdout",
     "output_type": "stream",
     "text": [
      "bin\t\t\t\t      diagnostic-89271760daa0.log\r\n",
      "certificates\t\t\t      logs\r\n",
      "corda-tools-network-bootstrapper.jar  node-89271760daa0.log\r\n",
      "corda-webserver.jar\t\t      nodes\r\n",
      "corda.jar\r\n"
     ]
    }
   ],
   "source": [
    "!ls /opt/corda"
   ]
  },
  {
   "cell_type": "markdown",
   "metadata": {},
   "source": [
    "The two libraries that are used in this example are:\n",
    "- ``corda.jar`` - the main Corda jar,\n",
    "- ``corda-tools-network-bootstrapper.jar`` - is used to generate the network parameters.\n",
    "\n",
    "The network parameters are a maps and rules how to communicate between each node in the network. You can read more bout the network parameter at [https://docs.corda.net/network-map.html#network-parameters](https://docs.corda.net/network-map.html#network-parameters). To generate the network parameters file, we need to have some initial nodes configuration. In this example we use just one node. A node can be defined in a ``.conf`` file. The detailes on each parameter can be found at\n",
    "[https://docs.corda.net/releases/release-M4.1/corda-configuration-files.html](https://docs.corda.net/releases/release-M4.1/corda-configuration-files.html). The ``node.conf`` is a set of basic parameters of our node like the database, p2p, rpc ports, the user and keystore details. The P2P part is used by the nodes to communicate between each. RPC can used to communication with our web application. An example of a node configuration is given below. Our network parameters are quite short as it only contain one node."
   ]
  },
  {
   "cell_type": "code",
   "execution_count": null,
   "metadata": {},
   "outputs": [],
   "source": [
    "%%writefile /opt/corda/nodes/node.conf\n",
    "p2pAddress = \"localhost:10002\"\n",
    "rpcSettings {\n",
    "    address: \"localhost:10003\"\n",
    "    adminAddress: \"localhost:10004\"\n",
    "}\n",
    "h2port = 11000\n",
    "emailAddress = \"karol@codete.com\"\n",
    "myLegalName = \"O=Codete, L=Krakow, C=PL\"\n",
    "keyStorePassword = \"cordacadevpass\"\n",
    "trustStorePassword = \"trustpass\"\n",
    "devMode = true\n",
    "rpcUsers= [\n",
    "    {\n",
    "        user=corda\n",
    "        password=portal_password\n",
    "        permissions=[\n",
    "            ALL\n",
    "        ]\n",
    "    }\n",
    "]"
   ]
  },
  {
   "cell_type": "markdown",
   "metadata": {},
   "source": [
    "To generate the network parameters we need to specify the directory that is searched for node configurations. You do it as follows:"
   ]
  },
  {
   "cell_type": "code",
   "execution_count": 1,
   "metadata": {},
   "outputs": [
    {
     "name": "stdout",
     "output_type": "stream",
     "text": [
      "Bootstrapping local test network in /opt/corda\n",
      "Using corda.jar in root directory\n",
      "Copying corda.jar into node directory nodes\n",
      "Nodes found in the following sub-directories: [nodes]\n",
      "Found the following CorDapps: [corda-webserver.jar]\n",
      "Copying CorDapp JARs into node directories\n",
      "Waiting for all nodes to generate their node-info files...\n",
      "... still waiting. If this is taking longer than usual, check the node logs.\n",
      "Distributing all node-info files to all nodes\n",
      "Loading existing network parameters... none found\n",
      "Gathering notary identities\n",
      "Generating contract implementations whitelist\n",
      "QUASAR WARNING: Quasar Java Agent isn't running. If you're using another instrumentation method you can ignore this message; otherwise, please refer to the Getting Started section in the Quasar documentation.\n",
      "New NetworkParameters {\n",
      "      minimumPlatformVersion=4\n",
      "      notaries=[]\n",
      "      maxMessageSize=10485760\n",
      "      maxTransactionSize=524288000\n",
      "      whitelistedContractImplementations {\n",
      "        \n",
      "      }\n",
      "      eventHorizon=PT720H\n",
      "      packageOwnership {\n",
      "        \n",
      "      }\n",
      "      modifiedTime=2019-10-28T20:16:14.753Z\n",
      "      epoch=1\n",
      "  }\n",
      "Bootstrapping complete!\n"
     ]
    }
   ],
   "source": [
    "!cd  /opt/corda && java -jar corda-tools-network-bootstrapper.jar --dir /opt/corda/"
   ]
  },
  {
   "cell_type": "markdown",
   "metadata": {},
   "source": [
    "You can see that when running for the first time, there are no network parameters found. Also no notary node is found in the configuration. The tool found the node configuration in the ``nodes`` directory and one Cordapp."
   ]
  },
  {
   "cell_type": "markdown",
   "metadata": {},
   "source": [
    "To run the node you can execute the node as below. We set some basic parameters like the h2 location, config file used, and the base directory where Corda starts with. You can also run the command in a console and check the Corda CLI. Type ``help`` to get more options and ``bye`` to exit Corda."
   ]
  },
  {
   "cell_type": "code",
   "execution_count": 6,
   "metadata": {},
   "outputs": [
    {
     "name": "stdout",
     "output_type": "stream",
     "text": [
      "\n",
      "\u001b[91m   ______               __\n",
      "  / ____/     _________/ /___ _\n",
      " / /     __  / ___/ __  / __ `/         \u001b[94mChange is inevitable, except\n",
      "\u001b[91m/ /___  /_/ / /  / /_/ / /_/ /          \u001b[94mfrom a vending machine.\n",
      "\u001b[91m\\____/     /_/   \\__,_/\\__,_/\u001b[m\n",
      "\n",
      "\u001b[99;1m--- Corda Open Source 4.1 (c11f6c1) -------------------------------------------------------------\n",
      "\n",
      "\u001b[m\n",
      "Logs can be found in                    : /opt/corda/nodes/logs\n",
      "\u001b[31m! ATTENTION: This node is running in development mode!  This is not safe for production deployment.\u001b[0m\n",
      "Database connection url is              : jdbc:h2:tcp://localhost:11000/node\n",
      "Advertised P2P messaging addresses      : localhost:10002\n",
      "RPC connection address                  : localhost:10003\n",
      "RPC admin connection address            : localhost:10004\n",
      "Loaded 1 CorDapp(s)                     : CorDapp corda-webserver version Unknown by Unknown with licence Unknown\n",
      "Node for \"Bank of Breakfast Tea\" started up and registered in 44.81 sec\n",
      "\n",
      "\n",
      "Welcome to the Corda interactive shell.\n",
      "Useful commands include 'help' to see what is available, and 'bye' to shut down the node.\n",
      "\n",
      "Tue Oct 29 18:28:30 CET 2019>>> \n",
      "\n",
      "Tue Oct 29 18:38:07 CET 2019>>> \n",
      "Tue Oct 29 18:38:07 CET 2019>>> "
     ]
    }
   ],
   "source": [
    "!java -Djava.security.egd=file:/dev/./urandom -Dcapsule.jvm.args=\"${JVM_ARGS}\" -Dcorda.dataSourceProperties.dataSource.url=\"jdbc:h2:file:\"${PERSISTENCE_FOLDER}\"/persistence;DB_CLOSE_ON_EXIT=FALSE;WRITE_DELAY=0;LOCK_TIMEOUT=10000\" -jar /opt/corda/nodes/corda.jar --base-directory /opt/corda/nodes/ --config-file /opt/corda/nodes/node.conf ${CORDA_ARGS}"
   ]
  },
  {
   "cell_type": "markdown",
   "metadata": {},
   "source": [
    "## Gradle\n",
    "\n",
    "Nodes can be also configured also using Gradle. Build a Corda application this the more convinient way to do. Let's take a Kotlin Cordapp example. It's already cloned in this container, in case you want to do it locally, you can use the command:\n",
    "``git clone https://github.com/corda/cordapp-template-kotlin.git``.\n",
    "This example is also well described in the README file. The most important part is the nodes configuration that is done in ``build.gradle`` configuration. We have divided this file into two cells below for easier understanding of the content.\n",
    "\n",
    "In the first part we have some general information on the Cordapp like libaries versions, dependencies and repositories. In the ``allprojects`` section we set Kotlin version and set the Corda repositories. The last section is on dependencies. We can see that the workflows and contracts are an important part of this project. We will cover this part in more details in the next notebook."
   ]
  },
  {
   "cell_type": "code",
   "execution_count": 1,
   "metadata": {},
   "outputs": [
    {
     "name": "stdout",
     "output_type": "stream",
     "text": [
      "Overwriting /home/codete/workshop/cordapp-template-kotlin/build.gradle\n"
     ]
    }
   ],
   "source": [
    "%%writefile /home/codete/workshop/cordapp-template-kotlin/build.gradle\n",
    "buildscript {\n",
    "    ext {\n",
    "        corda_release_group = 'net.corda'\n",
    "        corda_release_version = '4.1'\n",
    "        corda_gradle_plugins_version = '4.0.45'\n",
    "        kotlin_version = '1.2.71'\n",
    "        junit_version = '4.12'\n",
    "        quasar_version = '0.7.10'\n",
    "        spring_boot_version = '2.0.2.RELEASE'\n",
    "        spring_boot_gradle_plugin_version = '2.0.2.RELEASE'\n",
    "        slf4j_version = '1.7.25'\n",
    "        log4j_version = '2.11.2'\n",
    "        corda_platform_version = '4'.toInteger()\n",
    "    }\n",
    "\n",
    "    repositories {\n",
    "        mavenLocal()\n",
    "        mavenCentral()\n",
    "        jcenter()\n",
    "        maven { url 'https://software.r3.com/artifactory/corda' }    \n",
    "    }\n",
    "\n",
    "    dependencies {\n",
    "        classpath \"org.jetbrains.kotlin:kotlin-gradle-plugin:$kotlin_version\"\n",
    "        classpath \"net.corda.plugins:cordapp:$corda_gradle_plugins_version\"\n",
    "        classpath \"net.corda.plugins:cordformation:$corda_gradle_plugins_version\"\n",
    "        classpath \"net.corda.plugins:quasar-utils:$corda_gradle_plugins_version\"\n",
    "        classpath \"org.springframework.boot:spring-boot-gradle-plugin:$spring_boot_gradle_plugin_version\"\n",
    "    }\n",
    "}\n",
    "\n",
    "allprojects {\n",
    "    apply plugin: 'kotlin'\n",
    "\n",
    "    repositories {\n",
    "        mavenLocal()\n",
    "        jcenter()\n",
    "        mavenCentral()\n",
    "        maven { url 'https://software.r3.com/artifactory/corda' }\n",
    "        maven { url 'https://jitpack.io' }\n",
    "    }\n",
    "\n",
    "    tasks.withType(org.jetbrains.kotlin.gradle.tasks.KotlinCompile) {\n",
    "        kotlinOptions {\n",
    "            languageVersion = \"1.2\"\n",
    "            apiVersion = \"1.2\"\n",
    "            jvmTarget = \"1.8\"\n",
    "            javaParameters = true   // Useful for reflection.\n",
    "        }\n",
    "    }\n",
    "\n",
    "    jar {\n",
    "        // This makes the JAR's SHA-256 hash repeatable.\n",
    "        preserveFileTimestamps = false\n",
    "        reproducibleFileOrder = true\n",
    "    }\n",
    "}\n",
    "\n",
    "apply plugin: 'net.corda.plugins.cordapp'\n",
    "apply plugin: 'net.corda.plugins.cordformation'\n",
    "apply plugin: 'net.corda.plugins.quasar-utils'\n",
    "\n",
    "sourceSets {\n",
    "    main {\n",
    "        resources {\n",
    "            srcDir rootProject.file(\"config/dev\")\n",
    "        }\n",
    "    }\n",
    "}\n",
    "\n",
    "dependencies {\n",
    "    // Corda dependencies.\n",
    "    cordaCompile \"$corda_release_group:corda-core:$corda_release_version\"\n",
    "    cordaCompile \"$corda_release_group:corda-node-api:$corda_release_version\"\n",
    "    cordaRuntime \"$corda_release_group:corda:$corda_release_version\"\n",
    "\n",
    "    // CorDapp dependencies.\n",
    "    cordapp project(\":workflows\")\n",
    "    cordapp project(\":contracts\")\n",
    "\n",
    "    cordaCompile \"org.apache.logging.log4j:log4j-slf4j-impl:${log4j_version}\"\n",
    "    cordaCompile \"org.apache.logging.log4j:log4j-web:${log4j_version}\"\n",
    "    cordaCompile \"org.slf4j:jul-to-slf4j:$slf4j_version\"\n",
    "}"
   ]
  },
  {
   "cell_type": "markdown",
   "metadata": {},
   "source": [
    "Workflows and contracts are also in the ``cordapp`` section, because we need to build both. The task ``deployNodes`` consist of three nodes configuration and a notary node configuration."
   ]
  },
  {
   "cell_type": "code",
   "execution_count": 2,
   "metadata": {},
   "outputs": [
    {
     "name": "stdout",
     "output_type": "stream",
     "text": [
      "Appending to /home/codete/workshop/cordapp-template-kotlin/build.gradle\n"
     ]
    }
   ],
   "source": [
    "%%writefile -a /home/codete/workshop/cordapp-template-kotlin/build.gradle\n",
    "cordapp {\n",
    "    info {\n",
    "        name \"CorDapp Template\"\n",
    "        vendor \"Corda Open Source\"\n",
    "        targetPlatformVersion corda_platform_version\n",
    "        minimumPlatformVersion corda_platform_version\n",
    "    }\n",
    "}\n",
    "\n",
    "task deployNodes(type: net.corda.plugins.Cordform, dependsOn: ['jar']) {\n",
    "    nodeDefaults {\n",
    "        projectCordapp {\n",
    "            deploy = false\n",
    "        }\n",
    "        cordapp project(':contracts')\n",
    "        cordapp project(':workflows')\n",
    "    }\n",
    "    node {\n",
    "        name \"O=Notary,L=London,C=GB\"\n",
    "        notary = [validating : false]\n",
    "        p2pPort 10002\n",
    "        rpcSettings {\n",
    "            address(\"localhost:10003\")\n",
    "            adminAddress(\"localhost:10043\")\n",
    "        }\n",
    "    }\n",
    "    node {\n",
    "        name \"O=PartyA,L=London,C=GB\"\n",
    "        p2pPort 10005\n",
    "        rpcSettings {\n",
    "            address(\"localhost:10006\")\n",
    "            adminAddress(\"localhost:10046\")\n",
    "        }\n",
    "        rpcUsers = [[ user: \"user1\", \"password\": \"test\", \"permissions\": [\"ALL\"]]]\n",
    "    }\n",
    "    node {\n",
    "        name \"O=PartyB,L=New York,C=US\"\n",
    "        p2pPort 10008\n",
    "        rpcSettings {\n",
    "            address(\"localhost:10009\")\n",
    "            adminAddress(\"localhost:10049\")\n",
    "        }\n",
    "        rpcUsers = [[ user: \"user1\", \"password\": \"test\", \"permissions\": [\"ALL\"]]]\n",
    "    }\n",
    "}"
   ]
  },
  {
   "cell_type": "markdown",
   "metadata": {},
   "source": [
    "To generate the nodes configuration we should execute the ``deployNodes`` task as follows:"
   ]
  },
  {
   "cell_type": "code",
   "execution_count": null,
   "metadata": {},
   "outputs": [],
   "source": [
    "!cd /home/codete/workshop/cordapp-template-kotlin/ && ./gradlew deployNodes"
   ]
  },
  {
   "cell_type": "markdown",
   "metadata": {},
   "source": [
    "This generates nodes configuration in the ``build/nodes`` directory. We see a separate directory for each node and a ``runnodes`` script. It runs each node. You can also execute the command below in a console and use the Corda CLI."
   ]
  },
  {
   "cell_type": "code",
   "execution_count": null,
   "metadata": {},
   "outputs": [],
   "source": [
    "!cd /home/codete/workshop/cordapp-template-kotlin/build/nodes/ && ./runnodes"
   ]
  },
  {
   "cell_type": "markdown",
   "metadata": {},
   "source": []
  }
 ],
 "metadata": {
  "kernelspec": {
   "display_name": "Python 3",
   "language": "python",
   "name": "python3"
  },
  "language_info": {
   "codemirror_mode": {
    "name": "ipython",
    "version": 3
   },
   "file_extension": ".py",
   "mimetype": "text/x-python",
   "name": "python",
   "nbconvert_exporter": "python",
   "pygments_lexer": "ipython3",
   "version": "3.6.8"
  }
 },
 "nbformat": 4,
 "nbformat_minor": 2
}
