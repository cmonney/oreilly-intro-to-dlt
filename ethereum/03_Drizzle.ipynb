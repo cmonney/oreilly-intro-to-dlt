{
 "cells": [
  {
   "cell_type": "markdown",
   "metadata": {},
   "source": [
    "# Drizzle\n",
    "\n",
    "Drizzle is a set of frontend libraries for ethereum. We use it in this example for building a web application that uses your blockchain accounts and network. We use a drizzle box to create a template that we base on our application. We should create a separate directory for the web app in the first place."
   ]
  },
  {
   "cell_type": "code",
   "execution_count": null,
   "metadata": {},
   "outputs": [],
   "source": [
    "!mkdir /home/codete/workshop/voting-drizzle"
   ]
  },
  {
   "cell_type": "markdown",
   "metadata": {},
   "source": [
    "Generate a template app with drizzle is easy as below:"
   ]
  },
  {
   "cell_type": "code",
   "execution_count": null,
   "metadata": {},
   "outputs": [],
   "source": [
    "!cd /home/codete/workshop/voting-drizzle && truffle unbox drizzle"
   ]
  },
  {
   "cell_type": "markdown",
   "metadata": {},
   "source": [
    "The next step is to copy our contract to the ``contracts`` directory of the new app:"
   ]
  },
  {
   "cell_type": "code",
   "execution_count": null,
   "metadata": {},
   "outputs": [],
   "source": [
    "!cp /home/codete/workshop/voting-truffle/contracts/Voting.sol /home/codete/workshop/voting-drizzle/contracts/"
   ]
  },
  {
   "cell_type": "markdown",
   "metadata": {},
   "source": [
    "The box we used for our application use React as the library. There is one default component created in the templates called ``MyComponent.js``. It is used to display the data from our smart contract. We need to include the ``web3`` library that is used to convert the hex values returned by our smart contract into strings. We have two components imported that are used to invoke the methods from our smart contract (``ContractData``) and send data to our smart contract (``ContractForm``)."
   ]
  },
  {
   "cell_type": "code",
   "execution_count": null,
   "metadata": {},
   "outputs": [],
   "source": [
    "%%writefile /home/codete/workshop/voting-drizzle/app/src/MyComponent.js\n",
    "import React from \"react\";\n",
    "import {\n",
    "  AccountData,\n",
    "  ContractData,\n",
    "  ContractForm,\n",
    "} from \"drizzle-react-components\";\n",
    "\n",
    "import Web3 from 'web3';\n",
    "\n",
    "var web3 = new Web3();\n",
    "\n",
    "export default ({ accounts }) => (\n",
    "  <div className=\"App\">\n",
    "\n",
    "    <div className=\"section\">\n",
    "      <h2>Active Account</h2>\n",
    "      <AccountData accountIndex=\"0\" units=\"ether\" precision=\"3\" />\n",
    "    </div>\n",
    "\n",
    "    <div className=\"VotingApp\">\n",
    "    <h2>Ideas</h2>\n",
    "    <ContractData contract=\"Voting\" method=\"getIdeas\" render={data => (\n",
    "        <ol> {console.log(data[0])}  \n",
    "        {data[0].map((el,index)=>(\n",
    "            <li>\n",
    "                Title: {web3.utils.hexToString(el)}\n",
    "                Description: {web3.utils.hexToString(data[1][index])}\n",
    "            </li>\n",
    "        ))}\n",
    "    <h2>Vote for idea</h2>\n",
    "    <ContractForm contract=\"Voting\" method=\"addVote\" labels={[\"Idea ID\"]}/>\n",
    "        </ol>\n",
    "    )}/>\n",
    "    <h2>Add a new idea</h2>\n",
    "    <ContractForm \n",
    "      contract=\"Voting\" \n",
    "      method=\"addIdea\" \n",
    "      labels={[\"Title\", \"Description\"]}\n",
    "    />\n",
    "    </div>\n",
    "  </div>\n",
    "\n",
    ");"
   ]
  },
  {
   "cell_type": "markdown",
   "metadata": {},
   "source": [
    "The default container loads the default component and the contracts classes."
   ]
  },
  {
   "cell_type": "code",
   "execution_count": null,
   "metadata": {},
   "outputs": [],
   "source": [
    "%%writefile /home/codete/workshop/voting-drizzle/app/src/MyContainer.js\n",
    "import MyComponent from \"./MyComponent\";\n",
    "import { drizzleConnect } from \"drizzle-react\";\n",
    "\n",
    "const mapStateToProps = state => {\n",
    "  return {\n",
    "    accounts: state.accounts,\n",
    "    SimpleStorage: state.contracts.SimpleStorage,\n",
    "    TutorialToken: state.contracts.TutorialToken,\n",
    "    drizzleStatus: state.drizzleStatus,\n",
    "    Voting: state.contracts.Voting,\n",
    "  };\n",
    "};\n",
    "\n",
    "const MyContainer = drizzleConnect(MyComponent, mapStateToProps);\n",
    "\n",
    "export default MyContainer;"
   ]
  },
  {
   "cell_type": "markdown",
   "metadata": {},
   "source": [
    "Finally, we load the JSON compiled contracts and load the web3."
   ]
  },
  {
   "cell_type": "code",
   "execution_count": null,
   "metadata": {},
   "outputs": [],
   "source": [
    "%%writefile /home/codete/workshop/voting-drizzle/app/src/drizzleOptions.js\n",
    "import SimpleStorage from \"./contracts/SimpleStorage.json\";\n",
    "import ComplexStorage from \"./contracts/ComplexStorage.json\";\n",
    "import TutorialToken from \"./contracts/TutorialToken.json\";\n",
    "import Voting from \"./contracts/Voting.json\";\n",
    "\n",
    "const options = {\n",
    "  web3: {\n",
    "    block: false,\n",
    "    fallback: {\n",
    "      type: \"ws\",\n",
    "      url: \"ws://127.0.0.1:9545\",\n",
    "    },\n",
    "  },\n",
    "  contracts: [SimpleStorage, ComplexStorage, TutorialToken, Voting],\n",
    "  events: {\n",
    "    SimpleStorage: [\"StorageSet\"],\n",
    "  },\n",
    "  polls: {\n",
    "    accounts: 1500,\n",
    "  },\n",
    "};\n",
    "\n",
    "export default options;"
   ]
  },
  {
   "cell_type": "markdown",
   "metadata": {},
   "source": [
    "The last part is the configuration of truffle, similar as in the previous example, but this time we also need to set the path os the contracts."
   ]
  },
  {
   "cell_type": "code",
   "execution_count": null,
   "metadata": {},
   "outputs": [],
   "source": [
    "%%writefile /home/codete/workshop/voting-drizzle/truffle-config.js\n",
    "const path = require(\"path\");\n",
    "  \n",
    "module.exports = {\n",
    "  contracts_build_directory: path.join(__dirname, \"app/src/contracts\"),\n",
    "  networks: {\n",
    "    development: {\n",
    "      host: \"127.0.0.1\",      \n",
    "      network_id: \"*\",            \n",
    "      port: 8545\n",
    "    }\n",
    "  }\n",
    "};"
   ]
  },
  {
   "cell_type": "markdown",
   "metadata": {},
   "source": [
    "After building the contract we need to migrate it into our network:"
   ]
  },
  {
   "cell_type": "code",
   "execution_count": null,
   "metadata": {},
   "outputs": [],
   "source": [
    "!cd /home/codete/workshop/voting-drizzle && truffle migrate"
   ]
  },
  {
   "cell_type": "markdown",
   "metadata": {},
   "source": [
    "Ready to run the web app:"
   ]
  },
  {
   "cell_type": "code",
   "execution_count": null,
   "metadata": {},
   "outputs": [],
   "source": [
    "!cd /home/codete/workshop/voting-drizzle/app && npm start"
   ]
  },
  {
   "cell_type": "markdown",
   "metadata": {},
   "source": [
    "More templates can be found on the truffle framework website: https://truffleframework.com/boxes. More on the conversion can be found: https://web3js.readthedocs.io/en/1.0/web3-utils.html#hextoutf8"
   ]
  }
 ],
 "metadata": {
  "kernelspec": {
   "display_name": "Python 3",
   "language": "python",
   "name": "python3"
  },
  "language_info": {
   "codemirror_mode": {
    "name": "ipython",
    "version": 3
   },
   "file_extension": ".py",
   "mimetype": "text/x-python",
   "name": "python",
   "nbconvert_exporter": "python",
   "pygments_lexer": "ipython3",
   "version": "3.6.8"
  }
 },
 "nbformat": 4,
 "nbformat_minor": 2
}
