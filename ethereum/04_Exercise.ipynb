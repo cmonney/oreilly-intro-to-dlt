{
 "cells": [
  {
   "cell_type": "markdown",
   "metadata": {},
   "source": [
    "# Exercise\n",
    "\n",
    "The goal of this exercise is to add a button **Vote** below each idea. Use the code in the next cell and fill the gap. To make the exercise you should finish the following steps:\n",
    "\n",
    "1. Add a form in the first loop in the ``ContractForm`` where ``onSubmit`` should be set to ``handleSubmit``.\n",
    "2. Loop over ``inputs`` and create the input field. The field should have the following attributes:\n",
    "    - ``type`` set to hidden, \n",
    "    - ``key`` and ``name`` set to the input name,\n",
    "    - ``value`` set to index number,\n",
    "    - optional set the ``placeholder`` to input name,\n",
    "    - ``onChange`` set to ``handleInputChange``.\n",
    "3. Add **Vote** button below the input field and set the ``key`` attribute to ``submit`` and ``onClick`` set to ``handleSubmit``.\n",
    "4. Close the ``form``."
   ]
  },
  {
   "cell_type": "code",
   "execution_count": 26,
   "metadata": {},
   "outputs": [
    {
     "name": "stdout",
     "output_type": "stream",
     "text": [
      "Overwriting /home/codete/workshop/voting-drizzle/app/src/MyComponent.js\n"
     ]
    }
   ],
   "source": [
    "%%writefile /home/codete/workshop/voting-drizzle/app/src/MyComponent.js\n",
    "import React from \"react\";\n",
    "import {\n",
    "  AccountData,\n",
    "  ContractData,\n",
    "  ContractForm,\n",
    "} from \"drizzle-react-components\";\n",
    "\n",
    "import Web3 from 'web3';\n",
    "\n",
    "var web3 = new Web3();\n",
    "\n",
    "export default ({ accounts }) => (\n",
    "  <div className=\"App\">\n",
    "\n",
    "    <div className=\"section\">\n",
    "      <h2>Active Account</h2>\n",
    "      <AccountData accountIndex=\"0\" units=\"ether\" precision=\"3\" />\n",
    "    </div>\n",
    "\n",
    "    <div className=\"VotingApp\">\n",
    "    <h2>Ideas</h2>\n",
    "    <ContractData contract=\"Voting\" method=\"getIdeas\" render={data => (\n",
    "        <ol>\n",
    "        {data[0].map((el,index)=>(\n",
    "            <li>\n",
    "                Title: {web3.utils.hexToString(el)}\n",
    "                Description: {web3.utils.hexToString(data[1][index])}\n",
    "                <ContractForm contract=\"Voting\" method=\"addVote\" render={({ inputs, inputTypes, state, handleInputChange, handleSubmit }) => (\n",
    "            /*\n",
    "             Fill the code here                    \n",
    "            */\n",
    "              )}/>                        \n",
    "            </li>\n",
    "        ))}\n",
    "        </ol>\n",
    "    )}/>\n",
    "    <h2>Vote for idea</h2>\n",
    "    <ContractForm contract=\"Voting\" method=\"addVote\" labels={[\"Idea ID\"]}/>\n",
    "\n",
    "    <h2>Add a new idea</h2>\n",
    "    <ContractForm \n",
    "      contract=\"Voting\" \n",
    "      method=\"addIdea\" \n",
    "      labels={[\"Title\", \"Description\"]}\n",
    "    />\n",
    "    </div>\n",
    "  </div>\n",
    "\n",
    ");"
   ]
  }
 ],
 "metadata": {
  "kernelspec": {
   "display_name": "Python 3",
   "language": "python",
   "name": "python3"
  },
  "language_info": {
   "codemirror_mode": {
    "name": "ipython",
    "version": 3
   },
   "file_extension": ".py",
   "mimetype": "text/x-python",
   "name": "python",
   "nbconvert_exporter": "python",
   "pygments_lexer": "ipython3",
   "version": "3.6.8"
  }
 },
 "nbformat": 4,
 "nbformat_minor": 2
}
