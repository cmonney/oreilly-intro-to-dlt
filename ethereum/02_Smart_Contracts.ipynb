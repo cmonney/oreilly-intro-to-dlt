{
 "cells": [
  {
   "cell_type": "markdown",
   "metadata": {},
   "source": [
    "# Voting contract\n",
    "\n",
    "In this application we use the transactions to vote for a given candidate. Each contract has its own address that you can use to vote by \"paying\" a specific amount of ETH. Before we compile and deploy the smart contract, we need to create a new directory where we can save it:"
   ]
  },
  {
   "cell_type": "code",
   "execution_count": 4,
   "metadata": {},
   "outputs": [],
   "source": [
    "!mkdir /home/codete/workshop/voting-truffle/"
   ]
  },
  {
   "cell_type": "markdown",
   "metadata": {},
   "source": [
    "The easiest way to compile and migrate (deploy) the contract can be done using truffle. Truffle is a tool that can be used to build, compile, deploy or test smart contracts for Ethereum. To initialize a truffle project we use the ``init`` command:"
   ]
  },
  {
   "cell_type": "code",
   "execution_count": 5,
   "metadata": {},
   "outputs": [
    {
     "name": "stdout",
     "output_type": "stream",
     "text": [
      "\n",
      "\u001b[?25l\u001b[36m���\u001b[39m Preparing to download\u001b[2K\u001b[1G\u001b[?25h\u001b[32m���\u001b[39m Preparing to download\n",
      "\u001b[?25l\u001b[36m���\u001b[39m Downloading\u001b[2K\u001b[1G\u001b[36m���\u001b[39m Downloading\u001b[2K\u001b[1G\u001b[36m���\u001b[39m Downloading\u001b[2K\u001b[1G\u001b[36m���\u001b[39m Downloading\u001b[2K\u001b[1G\u001b[36m���\u001b[39m Downloading\u001b[2K\u001b[1G\u001b[36m���\u001b[39m Downloading\u001b[2K\u001b[1G\u001b[36m���\u001b[39m Downloading\u001b[2K\u001b[1G\u001b[36m���\u001b[39m Downloading\u001b[2K\u001b[1G\u001b[36m���\u001b[39m Downloading\u001b[2K\u001b[1G\u001b[36m���\u001b[39m Downloading\u001b[2K\u001b[1G\u001b[36m���\u001b[39m Downloading\u001b[2K\u001b[1G\u001b[36m���\u001b[39m Downloading\u001b[2K\u001b[1G\u001b[36m���\u001b[39m Downloading\u001b[2K\u001b[1G\u001b[36m���\u001b[39m Downloading\u001b[2K\u001b[1G\u001b[36m���\u001b[39m Downloading\u001b[2K\u001b[1G\u001b[36m���\u001b[39m Downloading\u001b[2K\u001b[1G\u001b[36m���\u001b[39m Downloading\u001b[2K\u001b[1G\u001b[36m���\u001b[39m Downloading\u001b[2K\u001b[1G\u001b[36m���\u001b[39m Downloading\u001b[2K\u001b[1G\u001b[?25h\u001b[32m���\u001b[39m Downloading\n",
      "\u001b[?25l\u001b[36m���\u001b[39m Cleaning up temporary files\u001b[2K\u001b[1G\u001b[?25h\u001b[32m���\u001b[39m Cleaning up temporary files\n",
      "\u001b[?25l\u001b[36m���\u001b[39m Setting up box\u001b[2K\u001b[1G\u001b[?25h\u001b[32m���\u001b[39m Setting up box\n",
      "\n",
      "Unbox successful. Sweet!\n",
      "\n",
      "Commands:\n",
      "\n",
      "  Compile:        truffle compile\n",
      "  Migrate:        truffle migrate\n",
      "  Test contracts: truffle test\n",
      "\n",
      "\u001b[?25h"
     ]
    }
   ],
   "source": [
    "!cd /home/codete/workshop/voting-truffle/ && truffle init"
   ]
  },
  {
   "cell_type": "markdown",
   "metadata": {},
   "source": [
    "A contract can be created with the ``create contract`` command followed with the name of the contract. The nomenclature is to start the name of a contract with an upper case."
   ]
  },
  {
   "cell_type": "code",
   "execution_count": 7,
   "metadata": {},
   "outputs": [],
   "source": [
    "!cd /home/codete/workshop/voting-truffle/ && truffle create contract Voting"
   ]
  },
  {
   "cell_type": "markdown",
   "metadata": {},
   "source": [
    "In each default project there is one contract called ``Migrations``, do don't be surprised if you find such contract while compiling your contract with the ``compile`` command."
   ]
  },
  {
   "cell_type": "code",
   "execution_count": 1,
   "metadata": {},
   "outputs": [
    {
     "name": "stdout",
     "output_type": "stream",
     "text": [
      "\n",
      "Compiling your contracts...\n",
      "===========================\n",
      "> Everything is up to date, there is nothing to compile.\n",
      "\n"
     ]
    }
   ],
   "source": [
    "!cd /home/codete/workshop/voting-truffle/ && truffle compile"
   ]
  },
  {
   "cell_type": "markdown",
   "metadata": {},
   "source": [
    "Let's implement a simple voting application contract. The contract consist of a list of ideas and votes that are given for each idea. We keep the addresses of the voters (accounts) in the ``voters`` variable and the votes in ``votes`` variable. We have three functions:\n",
    "\n",
    "- ``addIdea`` where we get the title and description of a new idea,\n",
    "- ``addVote`` where we get the voter address and the idea id, set the,\n",
    "- ``getIdeas`` that returns the list of available ideas."
   ]
  },
  {
   "cell_type": "code",
   "execution_count": 9,
   "metadata": {},
   "outputs": [
    {
     "name": "stdout",
     "output_type": "stream",
     "text": [
      "Overwriting /home/codete/workshop/voting-truffle/contracts/Voting.sol\n"
     ]
    }
   ],
   "source": [
    "%%writefile /home/codete/workshop/voting-truffle/contracts/Voting.sol\n",
    "pragma solidity ^0.5.0;\n",
    "\n",
    "contract Voting {\n",
    "    \n",
    "    event IdeaSet(string _message);\n",
    "\n",
    "    address public admin;\n",
    "\n",
    "    constructor() public {\n",
    "        sampleIdea = Idea(\"Sample idea1\",\"description1\");\n",
    "        admin = msg.sender;\n",
    "        ideasArray.push(sampleIdea);\n",
    "        sampleIdea = Idea(\"Sample idea2\",\"description2\");\n",
    "        ideasArray.push(sampleIdea);\n",
    "    }\n",
    "    \n",
    "    struct Idea {\n",
    "        bytes32 title;\n",
    "        bytes32 description; \n",
    "    }\n",
    "\n",
    "    mapping (uint => Idea) ideas;\n",
    "    address[] voters;    \n",
    "    uint[] votes;\n",
    "\n",
    "    uint public numVoters;\n",
    "    uint numIdeas;\n",
    "\n",
    "    Idea public sampleIdea;\n",
    "    Idea[] public sampleIdeas;\n",
    "\n",
    "    Idea[] public ideasArray; \n",
    "    \n",
    "    function addIdea(bytes32 title, bytes32 description) public {\n",
    "        numIdeas++;\n",
    "        Idea memory idea = Idea(title, description);\n",
    "        ideasArray.push(idea);\n",
    "        emit IdeaSet(\"Idea stored successfully!\");\n",
    "    }\n",
    "\n",
    "   function addVote(uint ideaID) public {\n",
    "        //require(ideaID >=0 && ideaID <= ideasArray.length);\n",
    "        for (uint i=0; i<voters.length; i++) {\n",
    "            require(msg.sender != voters[i]);\n",
    "        }\n",
    "        votes.push(ideaID);\n",
    "    voters.push(msg.sender);\n",
    "    numVoters = voters.length;\n",
    "   }\n",
    "        \n",
    "   function getIdeas() public view returns (bytes32[] memory, bytes32[] memory) {\n",
    "        bytes32[] memory titles = new bytes32[](ideasArray.length);\n",
    "        bytes32[] memory descriptions = new bytes32[](ideasArray.length);\n",
    "        \n",
    "        for (uint i = 0; i < ideasArray.length; i++) {\n",
    "            Idea storage idea = ideasArray[i];\n",
    "            titles[i] = idea.title;\n",
    "            descriptions[i] = idea.description;\n",
    "        }\n",
    "\n",
    "        return (titles, descriptions);        \n",
    "   }\n",
    "}"
   ]
  },
  {
   "cell_type": "markdown",
   "metadata": {},
   "source": [
    "Before migration, we should compile the contract again:"
   ]
  },
  {
   "cell_type": "code",
   "execution_count": 10,
   "metadata": {},
   "outputs": [
    {
     "name": "stdout",
     "output_type": "stream",
     "text": [
      "\n",
      "Compiling your contracts...\n",
      "===========================\n",
      "> Compiling ./contracts/Voting.sol\n",
      "> Artifacts written to /home/codete/workshop/voting-truffle/build/contracts\n",
      "> Compiled successfully using:\n",
      "   - solc: 0.5.8+commit.23d335f2.Emscripten.clang\n",
      "\n"
     ]
    }
   ],
   "source": [
    "!cd /home/codete/workshop/voting-truffle/ && truffle compile"
   ]
  },
  {
   "cell_type": "markdown",
   "metadata": {},
   "source": [
    "In the ``migrations`` path we need to define the next migration. Each migration can be defined as a set of contracts or one like below:"
   ]
  },
  {
   "cell_type": "code",
   "execution_count": 11,
   "metadata": {},
   "outputs": [
    {
     "name": "stdout",
     "output_type": "stream",
     "text": [
      "Writing /home/codete/workshop/voting-truffle/migrations/2_voting_migration.js\n"
     ]
    }
   ],
   "source": [
    "%%writefile /home/codete/workshop/voting-truffle/migrations/2_voting_migration.js\n",
    "const Migrations = artifacts.require(\"Voting\");\n",
    "  \n",
    "module.exports = function(deployer) {\n",
    "  deployer.deploy(Migrations);\n",
    "};"
   ]
  },
  {
   "cell_type": "markdown",
   "metadata": {},
   "source": [
    "The last step is to setup the network we would like the contracts to be migrated to:"
   ]
  },
  {
   "cell_type": "code",
   "execution_count": 16,
   "metadata": {},
   "outputs": [
    {
     "name": "stdout",
     "output_type": "stream",
     "text": [
      "Overwriting /home/codete/workshop/voting-truffle/truffle-config.js\n"
     ]
    }
   ],
   "source": [
    "%%writefile /home/codete/workshop/voting-truffle/truffle-config.js\n",
    "module.exports = {    \n",
    "    networks: {\n",
    "     development: {\n",
    "      host: \"127.0.0.1\",\n",
    "      port: 8545,\n",
    "      network_id: \"*\",\n",
    "     },\n",
    "    },\n",
    "    compilers: {\n",
    "      solc: {    \n",
    "      }\n",
    "    }\n",
    "}"
   ]
  },
  {
   "cell_type": "code",
   "execution_count": 2,
   "metadata": {},
   "outputs": [
    {
     "name": "stdout",
     "output_type": "stream",
     "text": [
      "\n",
      "Compiling your contracts...\n",
      "===========================\n",
      "> Everything is up to date, there is nothing to compile.\n",
      "\n",
      "\n",
      "Starting migrations...\n",
      "======================\n",
      "> Network name:    'development'\n",
      "> Network id:      1571331256004\n",
      "> Block gas limit: 0x6691b7\n",
      "\n",
      "\n",
      "1_initial_migration.js\n",
      "======================\n",
      "\n",
      "   Deploying 'Migrations'\n",
      "   ----------------------\n",
      "   > transaction hash:    0x7c469705648a8c820e8107382672e7ed5b91b81b2a7b79f747f4547f6f1374db\n",
      "\u001b[?25l\u001b[31m   ���\u001b[39m Blocks: 0            Seconds: 0\u001b[2K\u001b[1G\u001b[31m   ���\u001b[39m Blocks: 0            Seconds: 0\u001b[2K\u001b[1G\u001b[31m   ���\u001b[39m Blocks: 0            Seconds: 0\u001b[2K\u001b[1G\u001b[31m   ���\u001b[39m Blocks: 0            Seconds: 0\u001b[2K\u001b[1G\u001b[31m   ���\u001b[39m Blocks: 0            Seconds: 0\u001b[2K\u001b[1G\u001b[31m   ���\u001b[39m Blocks: 0            Seconds: 0\u001b[2K\u001b[1G\u001b[31m   ���\u001b[39m Blocks: 0            Seconds: 0\u001b[2K\u001b[1G\u001b[31m   ���\u001b[39m Blocks: 0            Seconds: 0\u001b[2K\u001b[1G\u001b[31m   ���\u001b[39m Blocks: 0            Seconds: 0\u001b[2K\u001b[1G\u001b[31m   ���\u001b[39m Blocks: 0            Seconds: 0\u001b[2K\u001b[1G\u001b[31m   ���\u001b[39m Blocks: 0            Seconds: 0\u001b[2K\u001b[1G\u001b[31m   ���\u001b[39m Blocks: 0            Seconds: 0\u001b[2K\u001b[1G\u001b[31m   ���\u001b[39m Blocks: 0            Seconds: 0\u001b[2K\u001b[1G\u001b[31m   ���\u001b[39m Blocks: 0            Seconds: 0\u001b[2K\u001b[1G\u001b[31m   ���\u001b[39m Blocks: 0            Seconds: 0\u001b[2K\u001b[1G\u001b[31m   ���\u001b[39m Blocks: 0            Seconds: 0\u001b[2K\u001b[1G\u001b[?25h   > Blocks: 0            Seconds: 0\n",
      "   > contract address:    0xa1C7B1C34c2c35c6c7D9887e8C2656969B7c8335\n",
      "   > block number:        4494\n",
      "   > block timestamp:     1571400929\n",
      "   > account:             0xcCB42789Eda8C1428892482740c666050991b278\n",
      "   > balance:             99.99477214\n",
      "   > gas used:            261393\n",
      "   > gas price:           20 gwei\n",
      "   > value sent:          0 ETH\n",
      "   > total cost:          0.00522786 ETH\n",
      "\n",
      "\n",
      "\u001b[?25l\u001b[31m   ���\u001b[39m Saving migration to chain.\u001b[2K\u001b[1G\u001b[31m   ���\u001b[39m Saving migration to chain.\u001b[2K\u001b[1G\u001b[31m   ���\u001b[39m Saving migration to chain.\u001b[2K\u001b[1G\u001b[31m   ���\u001b[39m Saving migration to chain.\u001b[2K\u001b[1G\u001b[31m   ���\u001b[39m Saving migration to chain.\u001b[2K\u001b[1G\u001b[31m   ���\u001b[39m Saving migration to chain.\u001b[2K\u001b[1G\u001b[31m   ���\u001b[39m Saving migration to chain.\u001b[2K\u001b[1G\u001b[31m   ���\u001b[39m Saving migration to chain.\u001b[2K\u001b[1G\u001b[31m   ���\u001b[39m Saving migration to chain.\u001b[2K\u001b[1G\u001b[31m   ���\u001b[39m Saving migration to chain.\u001b[2K\u001b[1G\u001b[31m   ���\u001b[39m Saving migration to chain.\u001b[2K\u001b[1G\u001b[31m   ���\u001b[39m Saving migration to chain.\u001b[2K\u001b[1G\u001b[31m   ���\u001b[39m Saving migration to chain.\u001b[2K\u001b[1G\u001b[31m   ���\u001b[39m Saving migration to chain.\u001b[2K\u001b[1G\u001b[31m   ���\u001b[39m Saving migration to chain.\u001b[2K\u001b[1G\u001b[31m   ���\u001b[39m Saving migration to chain.\u001b[2K\u001b[1G\u001b[31m   ���\u001b[39m Saving migration to chain.\u001b[2K\u001b[1G\u001b[31m   ���\u001b[39m Saving migration to chain.\u001b[2K\u001b[1G\u001b[31m   ���\u001b[39m Saving migration to chain.\u001b[2K\u001b[1G\u001b[31m   ���\u001b[39m Saving migration to chain.\u001b[2K\u001b[1G\u001b[31m   ���\u001b[39m Saving migration to chain.\u001b[2K\u001b[1G\u001b[31m   ���\u001b[39m Saving migration to chain.\u001b[2K\u001b[1G\u001b[31m   ���\u001b[39m Saving migration to chain.\u001b[2K\u001b[1G\u001b[31m   ���\u001b[39m Saving migration to chain.\u001b[2K\u001b[1G\u001b[31m   ���\u001b[39m Saving migration to chain.\u001b[2K\u001b[1G\u001b[31m   ���\u001b[39m Saving migration to chain.\u001b[2K\u001b[1G\u001b[31m   ���\u001b[39m Saving migration to chain.\u001b[2K\u001b[1G\u001b[31m   ���\u001b[39m Saving migration to chain.\u001b[2K\u001b[1G\u001b[31m   ���\u001b[39m Saving migration to chain.\u001b[2K\u001b[1G\u001b[31m   ���\u001b[39m Saving migration to chain.\u001b[2K\u001b[1G\u001b[31m   ���\u001b[39m Saving migration to chain.\u001b[2K\u001b[1G\u001b[31m   ���\u001b[39m Saving migration to chain.\u001b[2K\u001b[1G\u001b[31m   ���\u001b[39m Saving migration to chain.\u001b[2K\u001b[1G\u001b[31m   ���\u001b[39m Saving migration to chain.\u001b[2K\u001b[1G\u001b[31m   ���\u001b[39m Saving migration to chain.\u001b[2K\u001b[1G\u001b[31m   ���\u001b[39m Saving migration to chain.\u001b[2K\u001b[1G\u001b[31m   ���\u001b[39m Saving migration to chain.\u001b[2K\u001b[1G\u001b[31m   ���\u001b[39m Saving migration to chain.\u001b[2K\u001b[1G\u001b[31m   ���\u001b[39m Saving migration to chain.\u001b[2K\u001b[1G\u001b[31m   ���\u001b[39m Saving migration to chain.\u001b[2K\u001b[1G\u001b[31m   ���\u001b[39m Saving migration to chain.\u001b[2K\u001b[1G\u001b[31m   ���\u001b[39m Saving migration to chain.\u001b[2K\u001b[1G\u001b[31m   ���\u001b[39m Saving migration to chain.\u001b[2K\u001b[1G\u001b[31m   ���\u001b[39m Saving migration to chain.\u001b[2K\u001b[1G\u001b[31m   ���\u001b[39m Saving migration to chain.\u001b[2K\u001b[1G\u001b[31m   ���\u001b[39m Saving migration to chain.\u001b[2K\u001b[1G\u001b[31m   ���\u001b[39m Saving migration to chain.\u001b[2K\u001b[1G\u001b[31m   ���\u001b[39m Saving migration to chain.\u001b[2K\u001b[1G\u001b[31m   ���\u001b[39m Saving migration to chain.\u001b[2K\u001b[1G\u001b[31m   ���\u001b[39m Saving migration to chain.\u001b[2K\u001b[1G\u001b[31m   ���\u001b[39m Saving migration to chain.\u001b[2K\u001b[1G\u001b[31m   ���\u001b[39m Saving migration to chain.\u001b[2K\u001b[1G\u001b[31m   ���\u001b[39m Saving migration to chain.\u001b[2K\u001b[1G\u001b[31m   ���\u001b[39m Saving migration to chain.\u001b[2K\u001b[1G\u001b[31m   ���\u001b[39m Saving migration to chain.\u001b[2K\u001b[1G\u001b[31m   ���\u001b[39m Saving migration to chain.\u001b[2K\u001b[1G\u001b[31m   ���\u001b[39m Saving migration to chain.\u001b[2K\u001b[1G\u001b[31m   ���\u001b[39m Saving migration to chain.\u001b[2K\u001b[1G\u001b[31m   ���\u001b[39m Saving migration to chain.\u001b[2K\u001b[1G\u001b[31m   ���\u001b[39m Saving migration to chain.\u001b[2K\u001b[1G\u001b[31m   ���\u001b[39m Saving migration to chain.\u001b[2K\u001b[1G\u001b[31m   ���\u001b[39m Saving migration to chain.\u001b[2K\u001b[1G\u001b[?25h   > Saving migration to chain.\n",
      "   > Saving artifacts\n",
      "   -------------------------------------\n",
      "   > Total cost:          0.00522786 ETH\n",
      "\n",
      "\n",
      "2_voting_migration.js\n",
      "=====================\n",
      "\n",
      "   Deploying 'Voting'\n",
      "   ------------------\n",
      "   > transaction hash:    0x9277d8ae50e63b3453e6f374fe7ef6df8dfc3cb1fa8e0beb7cbba33f41cbd206\n"
     ]
    },
    {
     "name": "stdout",
     "output_type": "stream",
     "text": [
      "\u001b[?25l\u001b[31m   ���\u001b[39m Blocks: 0            Seconds: 0\u001b[2K\u001b[1G\u001b[31m   ���\u001b[39m Blocks: 0            Seconds: 0\u001b[2K\u001b[1G\u001b[31m   ���\u001b[39m Blocks: 0            Seconds: 0\u001b[2K\u001b[1G\u001b[31m   ���\u001b[39m Blocks: 0            Seconds: 0\u001b[2K\u001b[1G\u001b[31m   ���\u001b[39m Blocks: 0            Seconds: 0\u001b[2K\u001b[1G\u001b[31m   ���\u001b[39m Blocks: 0            Seconds: 0\u001b[2K\u001b[1G\u001b[31m   ���\u001b[39m Blocks: 0            Seconds: 0\u001b[2K\u001b[1G\u001b[31m   ���\u001b[39m Blocks: 0            Seconds: 0\u001b[2K\u001b[1G\u001b[31m   ���\u001b[39m Blocks: 0            Seconds: 0\u001b[2K\u001b[1G\u001b[31m   ���\u001b[39m Blocks: 0            Seconds: 0\u001b[2K\u001b[1G\u001b[31m   ���\u001b[39m Blocks: 0            Seconds: 0\u001b[2K\u001b[1G\u001b[31m   ���\u001b[39m Blocks: 0            Seconds: 0\u001b[2K\u001b[1G\u001b[31m   ���\u001b[39m Blocks: 0            Seconds: 0\u001b[2K\u001b[1G\u001b[31m   ���\u001b[39m Blocks: 0            Seconds: 0\u001b[2K\u001b[1G\u001b[31m   ���\u001b[39m Blocks: 0            Seconds: 0\u001b[2K\u001b[1G\u001b[31m   ���\u001b[39m Blocks: 0            Seconds: 0\u001b[2K\u001b[1G\u001b[31m   ���\u001b[39m Blocks: 0            Seconds: 0\u001b[2K\u001b[1G\u001b[31m   ���\u001b[39m Blocks: 0            Seconds: 0\u001b[2K\u001b[1G\u001b[31m   ���\u001b[39m Blocks: 0            Seconds: 0\u001b[2K\u001b[1G\u001b[31m   ���\u001b[39m Blocks: 0            Seconds: 0\u001b[2K\u001b[1G\u001b[31m   ���\u001b[39m Blocks: 0            Seconds: 0\u001b[2K\u001b[1G\u001b[31m   ���\u001b[39m Blocks: 0            Seconds: 0\u001b[2K\u001b[1G\u001b[31m   ���\u001b[39m Blocks: 0            Seconds: 0\u001b[2K\u001b[1G\u001b[31m   ���\u001b[39m Blocks: 0            Seconds: 0\u001b[2K\u001b[1G\u001b[31m   ���\u001b[39m Blocks: 0            Seconds: 0\u001b[2K\u001b[1G\u001b[31m   ���\u001b[39m Blocks: 0            Seconds: 0\u001b[2K\u001b[1G\u001b[31m   ���\u001b[39m Blocks: 0            Seconds: 0\u001b[2K\u001b[1G\u001b[31m   ���\u001b[39m Blocks: 0            Seconds: 0\u001b[2K\u001b[1G\u001b[31m   ���\u001b[39m Blocks: 0            Seconds: 0\u001b[2K\u001b[1G\u001b[31m   ���\u001b[39m Blocks: 0            Seconds: 0\u001b[2K\u001b[1G\u001b[31m   ���\u001b[39m Blocks: 0            Seconds: 0\u001b[2K\u001b[1G\u001b[31m   ���\u001b[39m Blocks: 0            Seconds: 0\u001b[2K\u001b[1G\u001b[31m   ���\u001b[39m Blocks: 0            Seconds: 0\u001b[2K\u001b[1G\u001b[31m   ���\u001b[39m Blocks: 0            Seconds: 0\u001b[2K\u001b[1G\u001b[31m   ���\u001b[39m Blocks: 0            Seconds: 0\u001b[2K\u001b[1G\u001b[31m   ���\u001b[39m Blocks: 0            Seconds: 0\u001b[2K\u001b[1G\u001b[31m   ���\u001b[39m Blocks: 0            Seconds: 0\u001b[2K\u001b[1G\u001b[31m   ���\u001b[39m Blocks: 0            Seconds: 0\u001b[2K\u001b[1G\u001b[31m   ���\u001b[39m Blocks: 0            Seconds: 0\u001b[2K\u001b[1G\u001b[31m   ���\u001b[39m Blocks: 0            Seconds: 0\u001b[2K\u001b[1G\u001b[31m   ���\u001b[39m Blocks: 0            Seconds: 0\u001b[2K\u001b[1G\u001b[31m   ���\u001b[39m Blocks: 0            Seconds: 0\u001b[2K\u001b[1G\u001b[31m   ���\u001b[39m Blocks: 0            Seconds: 0\u001b[2K\u001b[1G\u001b[31m   ���\u001b[39m Blocks: 0            Seconds: 0\u001b[2K\u001b[1G\u001b[31m   ���\u001b[39m Blocks: 0            Seconds: 0\u001b[2K\u001b[1G\u001b[31m   ���\u001b[39m Blocks: 0            Seconds: 0\u001b[2K\u001b[1G\u001b[31m   ���\u001b[39m Blocks: 0            Seconds: 0\u001b[2K\u001b[1G\u001b[31m   ���\u001b[39m Blocks: 0            Seconds: 0\u001b[2K\u001b[1G\u001b[31m   ���\u001b[39m Blocks: 0            Seconds: 0\u001b[2K\u001b[1G\u001b[31m   ���\u001b[39m Blocks: 0            Seconds: 4\u001b[2K\u001b[1G\u001b[31m   ���\u001b[39m Blocks: 0            Seconds: 4\u001b[2K\u001b[1G\u001b[31m   ���\u001b[39m Blocks: 0            Seconds: 4\u001b[2K\u001b[1G\u001b[31m   ���\u001b[39m Blocks: 0            Seconds: 4\u001b[2K\u001b[1G\u001b[31m   ���\u001b[39m Blocks: 0            Seconds: 4\u001b[2K\u001b[1G\u001b[31m   ���\u001b[39m Blocks: 0            Seconds: 4\u001b[2K\u001b[1G\u001b[31m   ���\u001b[39m Blocks: 0            Seconds: 4\u001b[2K\u001b[1G\u001b[31m   ���\u001b[39m Blocks: 0            Seconds: 4\u001b[2K\u001b[1G\u001b[31m   ���\u001b[39m Blocks: 0            Seconds: 4\u001b[2K\u001b[1G\u001b[31m   ���\u001b[39m Blocks: 0            Seconds: 4\u001b[2K\u001b[1G\u001b[31m   ���\u001b[39m Blocks: 0            Seconds: 4\u001b[2K\u001b[1G\u001b[31m   ���\u001b[39m Blocks: 0            Seconds: 4\u001b[2K\u001b[1G\u001b[31m   ���\u001b[39m Blocks: 0            Seconds: 4\u001b[2K\u001b[1G\u001b[?25h   > Blocks: 0            Seconds: 4\n",
      "   > contract address:    0x418F9B51C2186aE076f15396B330E3F21a5A97d9\n",
      "   > block number:        4496\n",
      "   > block timestamp:     1571400939\n",
      "   > account:             0xcCB42789Eda8C1428892482740c666050991b278\n",
      "   > balance:             99.9797126\n",
      "   > gas used:            710954\n",
      "   > gas price:           20 gwei\n",
      "   > value sent:          0 ETH\n",
      "   > total cost:          0.01421908 ETH\n",
      "\n",
      "\n",
      "\u001b[?25l\u001b[31m   ���\u001b[39m Saving migration to chain.\u001b[2K\u001b[1G\u001b[31m   ���\u001b[39m Saving migration to chain.\u001b[2K\u001b[1G\u001b[31m   ���\u001b[39m Saving migration to chain.\u001b[2K\u001b[1G\u001b[31m   ���\u001b[39m Saving migration to chain.\u001b[2K\u001b[1G\u001b[31m   ���\u001b[39m Saving migration to chain.\u001b[2K\u001b[1G\u001b[31m   ���\u001b[39m Saving migration to chain.\u001b[2K\u001b[1G\u001b[31m   ���\u001b[39m Saving migration to chain.\u001b[2K\u001b[1G\u001b[31m   ���\u001b[39m Saving migration to chain.\u001b[2K\u001b[1G\u001b[31m   ���\u001b[39m Saving migration to chain.\u001b[2K\u001b[1G\u001b[31m   ���\u001b[39m Saving migration to chain.\u001b[2K\u001b[1G\u001b[31m   ���\u001b[39m Saving migration to chain.\u001b[2K\u001b[1G\u001b[31m   ���\u001b[39m Saving migration to chain.\u001b[2K\u001b[1G\u001b[31m   ���\u001b[39m Saving migration to chain.\u001b[2K\u001b[1G\u001b[31m   ���\u001b[39m Saving migration to chain.\u001b[2K\u001b[1G\u001b[31m   ���\u001b[39m Saving migration to chain.\u001b[2K\u001b[1G\u001b[31m   ���\u001b[39m Saving migration to chain.\u001b[2K\u001b[1G\u001b[31m   ���\u001b[39m Saving migration to chain.\u001b[2K\u001b[1G\u001b[31m   ���\u001b[39m Saving migration to chain.\u001b[2K\u001b[1G\u001b[31m   ���\u001b[39m Saving migration to chain.\u001b[2K\u001b[1G\u001b[31m   ���\u001b[39m Saving migration to chain.\u001b[2K\u001b[1G\u001b[31m   ���\u001b[39m Saving migration to chain.\u001b[2K\u001b[1G\u001b[31m   ���\u001b[39m Saving migration to chain.\u001b[2K\u001b[1G\u001b[31m   ���\u001b[39m Saving migration to chain.\u001b[2K\u001b[1G\u001b[31m   ���\u001b[39m Saving migration to chain.\u001b[2K\u001b[1G\u001b[31m   ���\u001b[39m Saving migration to chain.\u001b[2K\u001b[1G\u001b[31m   ���\u001b[39m Saving migration to chain.\u001b[2K\u001b[1G\u001b[31m   ���\u001b[39m Saving migration to chain.\u001b[2K\u001b[1G\u001b[31m   ���\u001b[39m Saving migration to chain.\u001b[2K\u001b[1G\u001b[31m   ���\u001b[39m Saving migration to chain.\u001b[2K\u001b[1G\u001b[31m   ���\u001b[39m Saving migration to chain.\u001b[2K\u001b[1G\u001b[31m   ���\u001b[39m Saving migration to chain.\u001b[2K\u001b[1G\u001b[31m   ���\u001b[39m Saving migration to chain.\u001b[2K\u001b[1G\u001b[31m   ���\u001b[39m Saving migration to chain.\u001b[2K\u001b[1G\u001b[31m   ���\u001b[39m Saving migration to chain.\u001b[2K\u001b[1G\u001b[31m   ���\u001b[39m Saving migration to chain.\u001b[2K\u001b[1G\u001b[31m   ���\u001b[39m Saving migration to chain.\u001b[2K\u001b[1G\u001b[31m   ���\u001b[39m Saving migration to chain.\u001b[2K\u001b[1G\u001b[31m   ���\u001b[39m Saving migration to chain.\u001b[2K\u001b[1G\u001b[31m   ���\u001b[39m Saving migration to chain.\u001b[2K\u001b[1G\u001b[31m   ���\u001b[39m Saving migration to chain.\u001b[2K\u001b[1G\u001b[31m   ���\u001b[39m Saving migration to chain.\u001b[2K\u001b[1G\u001b[31m   ���\u001b[39m Saving migration to chain.\u001b[2K\u001b[1G\u001b[31m   ���\u001b[39m Saving migration to chain.\u001b[2K\u001b[1G\u001b[31m   ���\u001b[39m Saving migration to chain.\u001b[2K\u001b[1G\u001b[31m   ���\u001b[39m Saving migration to chain.\u001b[2K\u001b[1G\u001b[31m   ���\u001b[39m Saving migration to chain.\u001b[2K\u001b[1G\u001b[31m   ���\u001b[39m Saving migration to chain.\u001b[2K\u001b[1G\u001b[31m   ���\u001b[39m Saving migration to chain.\u001b[2K\u001b[1G\u001b[31m   ���\u001b[39m Saving migration to chain.\u001b[2K\u001b[1G\u001b[31m   ���\u001b[39m Saving migration to chain.\u001b[2K\u001b[1G\u001b[31m   ���\u001b[39m Saving migration to chain.\u001b[2K\u001b[1G\u001b[31m   ���\u001b[39m Saving migration to chain.\u001b[2K\u001b[1G\u001b[31m   ���\u001b[39m Saving migration to chain.\u001b[2K\u001b[1G\u001b[31m   ���\u001b[39m Saving migration to chain.\u001b[2K\u001b[1G\u001b[31m   ���\u001b[39m Saving migration to chain.\u001b[2K\u001b[1G\u001b[31m   ���\u001b[39m Saving migration to chain.\u001b[2K\u001b[1G\u001b[31m   ���\u001b[39m Saving migration to chain.\u001b[2K\u001b[1G\u001b[31m   ���\u001b[39m Saving migration to chain.\u001b[2K\u001b[1G\u001b[31m   ���\u001b[39m Saving migration to chain.\u001b[2K\u001b[1G\u001b[31m   ���\u001b[39m Saving migration to chain.\u001b[2K\u001b[1G\u001b[31m   ���\u001b[39m Saving migration to chain.\u001b[2K\u001b[1G\u001b[31m   ���\u001b[39m Saving migration to chain.\u001b[2K\u001b[1G\u001b[?25h   > Saving migration to chain.\n",
      "   > Saving artifacts\n",
      "   -------------------------------------\n",
      "   > Total cost:          0.01421908 ETH\n",
      "\n",
      "\n",
      "Summary\n",
      "=======\n",
      "> Total deployments:   2\n",
      "> Final cost:          0.01944694 ETH\n",
      "\n",
      "\u001b[?25h"
     ]
    }
   ],
   "source": [
    "!cd /home/codete/workshop/voting-truffle/ && truffle migrate"
   ]
  },
  {
   "cell_type": "markdown",
   "metadata": {},
   "source": [
    "You can find all deployed contracts with addresses with the ``networks`` command:"
   ]
  },
  {
   "cell_type": "code",
   "execution_count": 3,
   "metadata": {},
   "outputs": [
    {
     "name": "stdout",
     "output_type": "stream",
     "text": [
      "\n",
      "The following networks are configured to match any network id ('*'):\n",
      "\n",
      "    development\n",
      "\n",
      "Closely inspect the deployed networks below, and use `truffle networks --clean` to remove any networks that don't match your configuration. You should not use the wildcard configuration ('*') for staging and production networks for which you intend to deploy your application.\n",
      "\n",
      "Network: UNKNOWN (id: 1566297444822)\n",
      "  Migrations: 0x8eeFCfBCb45cb8FEC8eBd1AbA07C02ADcbA42B7B\n",
      "  Voting: 0x05018d338e21903175C7063Ce3DC963f41ee4500\n",
      "\n",
      "Network: UNKNOWN (id: 1566320440949)\n",
      "  Migrations: 0xB28B421230f22BE42cdFd70776C568077dB6d18d\n",
      "  Voting: 0x713753793E44906a607023bbeDb8d8fbBeA057e6\n",
      "\n",
      "Network: UNKNOWN (id: 1571331256004)\n",
      "  Migrations: 0xa1C7B1C34c2c35c6c7D9887e8C2656969B7c8335\n",
      "  Voting: 0x418F9B51C2186aE076f15396B330E3F21a5A97d9\n",
      "\n"
     ]
    }
   ],
   "source": [
    "!cd /home/codete/workshop/voting-truffle/ && truffle networks"
   ]
  },
  {
   "cell_type": "markdown",
   "metadata": {},
   "source": [
    "The contract address can be used to send some Ethers to it with MetaMask from one of previously created accounts. Use MetaMask, choose your account where you would like to send the Ethers from and click ``Send button``. Next enter the receipient address, it should be the Voting contract address. Set the Ether value and send it.\n",
    "![images/contract.png](images/contract.png).\n",
    "You after it's confirmed, you can check the history below:\n",
    "![images/history.png](images/history.png)."
   ]
  }
 ],
 "metadata": {
  "kernelspec": {
   "display_name": "Python 3",
   "language": "python",
   "name": "python3"
  },
  "language_info": {
   "codemirror_mode": {
    "name": "ipython",
    "version": 3
   },
   "file_extension": ".py",
   "mimetype": "text/x-python",
   "name": "python",
   "nbconvert_exporter": "python",
   "pygments_lexer": "ipython3",
   "version": "3.6.8"
  }
 },
 "nbformat": 4,
 "nbformat_minor": 2
}
